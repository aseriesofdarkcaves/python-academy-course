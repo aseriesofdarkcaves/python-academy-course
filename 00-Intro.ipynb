{
 "cells": [
  {
   "cell_type": "markdown",
   "id": "bdeb471f-21a8-4b73-b0ba-c25627e81bc1",
   "metadata": {},
   "source": [
    "# Python Academy Python Course\n",
    "- 8:45 - 17:00"
   ]
  },
  {
   "cell_type": "markdown",
   "id": "eafab127-cd6d-47f9-b639-0942d0e2b039",
   "metadata": {
    "tags": []
   },
   "source": [
    "## Breaks\n",
    "- 10:30 - 11:00 (30m)\n",
    "- 12:30 - 13:30 (1h)\n",
    "- 15:00 - 15:30 (30m)"
   ]
  },
  {
   "cell_type": "code",
   "execution_count": null,
   "id": "8c0b43b2-d49f-4dfb-9de2-6c849b2546b8",
   "metadata": {},
   "outputs": [],
   "source": []
  }
 ],
 "metadata": {
  "kernelspec": {
   "display_name": "Python 3.9",
   "language": "python",
   "name": "python39"
  },
  "language_info": {
   "codemirror_mode": {
    "name": "ipython",
    "version": 3
   },
   "file_extension": ".py",
   "mimetype": "text/x-python",
   "name": "python",
   "nbconvert_exporter": "python",
   "pygments_lexer": "ipython3",
   "version": "3.9.7"
  }
 },
 "nbformat": 4,
 "nbformat_minor": 5
}
