{
 "cells": [
  {
   "cell_type": "markdown",
   "id": "5bc96fe3-a911-4672-8600-ba5fc44e4b80",
   "metadata": {},
   "source": [
    "# Random snippets"
   ]
  },
  {
   "cell_type": "code",
   "execution_count": 3,
   "id": "f51ba25f-10d8-4fda-8054-a354fda16915",
   "metadata": {},
   "outputs": [
    {
     "data": {
      "text/plain": [
       "('Nobody', 'expects', 'the', 'Spanish', 'Inquisition!')"
      ]
     },
     "execution_count": 3,
     "metadata": {},
     "output_type": "execute_result"
    }
   ],
   "source": [
    "# tuple-ize a string\n",
    "sentence = 'Nobody expects the Spanish Inquisition!'\n",
    "tuple(sentence.split())"
   ]
  },
  {
   "cell_type": "code",
   "execution_count": 4,
   "id": "38bfed91-4814-4180-b3b4-31e49b47e215",
   "metadata": {},
   "outputs": [
    {
     "name": "stdout",
     "output_type": "stream",
     "text": [
      "12.3 ns ± 0.285 ns per loop (mean ± std. dev. of 7 runs, 100000000 loops each)\n"
     ]
    }
   ],
   "source": [
    "# timing stats - can take a while\n",
    "# NOTE - THIS ONLY WORKS IN JUPYTER NOTEBOOK!\n",
    "%timeit 1 + 1"
   ]
  },
  {
   "cell_type": "code",
   "execution_count": 10,
   "id": "a6b669f1-b61e-41ac-a59e-cc4155297d9f",
   "metadata": {},
   "outputs": [
    {
     "data": {
      "text/plain": [
       "8621025.694439923"
      ]
     },
     "execution_count": 10,
     "metadata": {},
     "output_type": "execute_result"
    }
   ],
   "source": [
    "# This should work in general Python scripts\n",
    "# timeit takes a little longer as it runs more times to get an average\n",
    "import timeit\n",
    "\n",
    "\n",
    "timeit.default_timer()"
   ]
  },
  {
   "cell_type": "code",
   "execution_count": 11,
   "id": "7415eb6d-043e-4527-9fea-c19df9c99a1d",
   "metadata": {},
   "outputs": [
    {
     "data": {
      "text/plain": [
       "1638348403.9516847"
      ]
     },
     "execution_count": 11,
     "metadata": {},
     "output_type": "execute_result"
    }
   ],
   "source": [
    "# This also works, but is less accurate compared with timeit\n",
    "# this is because it is influenced by other tasks running on the machine\n",
    "import time\n",
    "\n",
    "\n",
    "time.time()"
   ]
  },
  {
   "cell_type": "code",
   "execution_count": 7,
   "id": "c20154f6-7c5f-43da-b591-1dfb8648f8d9",
   "metadata": {},
   "outputs": [
    {
     "data": {
      "text/plain": [
       "5.0"
      ]
     },
     "execution_count": 7,
     "metadata": {},
     "output_type": "execute_result"
    }
   ],
   "source": [
    "# the default return-type for division is a float\n",
    "10 / 2"
   ]
  },
  {
   "cell_type": "code",
   "execution_count": 8,
   "id": "1c7cb6e8-f789-4512-8126-c7aa4198f748",
   "metadata": {},
   "outputs": [
    {
     "data": {
      "text/plain": [
       "5"
      ]
     },
     "execution_count": 8,
     "metadata": {},
     "output_type": "execute_result"
    }
   ],
   "source": [
    "# you can also do floor-division which returns an int type (handy for index use)\n",
    "10 // 2"
   ]
  },
  {
   "cell_type": "code",
   "execution_count": null,
   "id": "c8ba5d5e-0fd3-46f0-89cc-69ca3f877b7b",
   "metadata": {},
   "outputs": [],
   "source": []
  }
 ],
 "metadata": {
  "kernelspec": {
   "display_name": "Python 3.9",
   "language": "python",
   "name": "python39"
  },
  "language_info": {
   "codemirror_mode": {
    "name": "ipython",
    "version": 3
   },
   "file_extension": ".py",
   "mimetype": "text/x-python",
   "name": "python",
   "nbconvert_exporter": "python",
   "pygments_lexer": "ipython3",
   "version": "3.9.7"
  }
 },
 "nbformat": 4,
 "nbformat_minor": 5
}
