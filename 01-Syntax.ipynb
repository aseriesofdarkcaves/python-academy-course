{
 "cells": [
  {
   "cell_type": "markdown",
   "id": "6f2a1826-433e-486e-a817-c116de65f893",
   "metadata": {},
   "source": [
    "# Python Syntax\n",
    "Showing some python syntax."
   ]
  },
  {
   "cell_type": "code",
   "execution_count": 4,
   "id": "2b321506-f241-48d6-86b6-225a7c0f52dd",
   "metadata": {},
   "outputs": [],
   "source": [
    "# this is a comment"
   ]
  },
  {
   "cell_type": "markdown",
   "id": "3a77248a-11d3-4d67-bb54-a3d045ed6ad9",
   "metadata": {},
   "source": [
    "## Indentation"
   ]
  },
  {
   "cell_type": "code",
   "execution_count": 3,
   "id": "e57a14b1-39b5-4383-a2f6-a35b6e209f14",
   "metadata": {},
   "outputs": [
    {
     "name": "stdout",
     "output_type": "stream",
     "text": [
      "1\n",
      "2\n",
      "3\n"
     ]
    }
   ],
   "source": [
    "for i in [1, 2, 3]:\n",
    "    print(i)"
   ]
  },
  {
   "cell_type": "markdown",
   "id": "f3d6615d-7c9b-499a-a92c-2f8a327b1c87",
   "metadata": {},
   "source": [
    "## Line-beaks"
   ]
  },
  {
   "cell_type": "code",
   "execution_count": 5,
   "id": "929cb9ee-ae5f-48af-a0bc-df9887dac69b",
   "metadata": {},
   "outputs": [
    {
     "data": {
      "text/plain": [
       "'thiswillbeconcatenated'"
      ]
     },
     "execution_count": 5,
     "metadata": {},
     "output_type": "execute_result"
    }
   ],
   "source": [
    "'this' 'will' 'be' 'concatenated'"
   ]
  },
  {
   "cell_type": "code",
   "execution_count": 7,
   "id": "1c6a9bd4-78d4-4c35-905d-14794196e463",
   "metadata": {},
   "outputs": [
    {
     "data": {
      "text/plain": [
       "'alsoconcatenated'"
      ]
     },
     "execution_count": 7,
     "metadata": {},
     "output_type": "execute_result"
    }
   ],
   "source": [
    "'also' \\\n",
    "'concatenated'"
   ]
  },
  {
   "cell_type": "markdown",
   "id": "4fe35cb7-5243-4bbb-b7f8-e6c05f1e33e6",
   "metadata": {
    "tags": []
   },
   "source": [
    "## Biggy-Smalls"
   ]
  },
  {
   "cell_type": "code",
   "execution_count": 8,
   "id": "9a418569-13ae-402a-875a-70111ef2ef01",
   "metadata": {},
   "outputs": [],
   "source": [
    "a = 10\n",
    "A = 5"
   ]
  },
  {
   "cell_type": "code",
   "execution_count": 9,
   "id": "31641542-f0ca-46a4-affd-8a26625f9c5f",
   "metadata": {},
   "outputs": [
    {
     "data": {
      "text/plain": [
       "5"
      ]
     },
     "execution_count": 9,
     "metadata": {},
     "output_type": "execute_result"
    }
   ],
   "source": [
    "A"
   ]
  },
  {
   "cell_type": "code",
   "execution_count": 10,
   "id": "ad7a2607-90dd-484e-8ec3-e05c8ec5ece5",
   "metadata": {},
   "outputs": [
    {
     "data": {
      "text/plain": [
       "10"
      ]
     },
     "execution_count": 10,
     "metadata": {},
     "output_type": "execute_result"
    }
   ],
   "source": [
    "a"
   ]
  },
  {
   "cell_type": "markdown",
   "id": "174e0317-8616-47f4-a9a5-9c646b08978a",
   "metadata": {},
   "source": [
    "## Strings"
   ]
  },
  {
   "cell_type": "code",
   "execution_count": 11,
   "id": "939f5c52-e3f2-4091-982b-9053a6ebc2f4",
   "metadata": {},
   "outputs": [
    {
     "data": {
      "text/plain": [
       "'test'"
      ]
     },
     "execution_count": 11,
     "metadata": {},
     "output_type": "execute_result"
    }
   ],
   "source": [
    "'test'"
   ]
  },
  {
   "cell_type": "code",
   "execution_count": 12,
   "id": "59c9fc27-5f43-478b-8655-0e0fe5748609",
   "metadata": {},
   "outputs": [
    {
     "data": {
      "text/plain": [
       "'another-test'"
      ]
     },
     "execution_count": 12,
     "metadata": {},
     "output_type": "execute_result"
    }
   ],
   "source": [
    "\"another-test\""
   ]
  },
  {
   "cell_type": "code",
   "execution_count": 13,
   "id": "dcaa074f-d7b4-48a1-8f9d-788b1bfeb854",
   "metadata": {},
   "outputs": [
    {
     "data": {
      "text/plain": [
       "'She said: \"Hello!\"'"
      ]
     },
     "execution_count": 13,
     "metadata": {},
     "output_type": "execute_result"
    }
   ],
   "source": [
    "'She said: \"Hello!\"'"
   ]
  },
  {
   "cell_type": "code",
   "execution_count": 14,
   "id": "bf114860-45e5-4b5c-9524-434822b9eb94",
   "metadata": {},
   "outputs": [
    {
     "data": {
      "text/plain": [
       "'This is also possible: \"Hello\"'"
      ]
     },
     "execution_count": 14,
     "metadata": {},
     "output_type": "execute_result"
    }
   ],
   "source": [
    "\"This is also possible: \\\"Hello\\\"\""
   ]
  },
  {
   "cell_type": "code",
   "execution_count": 21,
   "id": "684b19bf-b026-4202-9418-99e3d5daed6c",
   "metadata": {},
   "outputs": [
    {
     "data": {
      "text/plain": [
       "'Here,\\nyou can define a string which\\nhas multiple lines in it'"
      ]
     },
     "execution_count": 21,
     "metadata": {},
     "output_type": "execute_result"
    }
   ],
   "source": [
    "# internal representation contains the escaped newline chars\n",
    "multi_line_string = \"\"\"Here,\n",
    "you can define a string which\n",
    "has multiple lines in it\"\"\"\n",
    "multi_line_string"
   ]
  },
  {
   "cell_type": "code",
   "execution_count": 22,
   "id": "6d1c2e73-2335-4fc8-a4ea-f22d089a67c5",
   "metadata": {},
   "outputs": [
    {
     "name": "stdout",
     "output_type": "stream",
     "text": [
      "Here,\n",
      "you can define a string which\n",
      "has multiple lines in it\n"
     ]
    }
   ],
   "source": [
    "# use print to render the newlines\n",
    "print(multi_line_string)"
   ]
  },
  {
   "cell_type": "code",
   "execution_count": null,
   "id": "1159336b-b8c7-4b35-8508-2fc6d5edd32a",
   "metadata": {},
   "outputs": [],
   "source": []
  }
 ],
 "metadata": {
  "kernelspec": {
   "display_name": "Python 3.9",
   "language": "python",
   "name": "python39"
  },
  "language_info": {
   "codemirror_mode": {
    "name": "ipython",
    "version": 3
   },
   "file_extension": ".py",
   "mimetype": "text/x-python",
   "name": "python",
   "nbconvert_exporter": "python",
   "pygments_lexer": "ipython3",
   "version": "3.9.7"
  }
 },
 "nbformat": 4,
 "nbformat_minor": 5
}
