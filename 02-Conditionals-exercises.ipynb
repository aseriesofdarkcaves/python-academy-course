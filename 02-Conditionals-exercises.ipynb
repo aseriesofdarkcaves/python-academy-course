{
 "cells": [
  {
   "cell_type": "markdown",
   "id": "09584ff1-06e3-4a7c-ab75-75cf8461387e",
   "metadata": {},
   "source": [
    "# Conditionals Exercises\n",
    "## Exercise 1"
   ]
  },
  {
   "cell_type": "code",
   "execution_count": 2,
   "id": "3a3656dc-75a7-482e-9b61-83648b9c94fb",
   "metadata": {},
   "outputs": [
    {
     "name": "stdin",
     "output_type": "stream",
     "text": [
      "Enter a number:  1\n",
      "Enter a limit:  12\n"
     ]
    },
    {
     "name": "stdout",
     "output_type": "stream",
     "text": [
      "lower\n"
     ]
    }
   ],
   "source": [
    "def compare_numbers(test, limit):\n",
    "    if test == limit:\n",
    "        print('equal')\n",
    "    elif test < limit:\n",
    "        print('lower')\n",
    "    else:\n",
    "        print('higher')\n",
    "\n",
    "\n",
    "if __name__ == '__main__':\n",
    "    test = input('Enter a number: ')\n",
    "    limit = input('Enter a limit: ')\n",
    "    compare_numbers(float(test), float(limit))"
   ]
  },
  {
   "cell_type": "markdown",
   "id": "a73f235a-6714-4619-8042-58602903e91d",
   "metadata": {
    "tags": []
   },
   "source": [
    "## Exercise 2"
   ]
  },
  {
   "cell_type": "code",
   "execution_count": 3,
   "id": "ba9d54fa-aede-4b76-9d5e-f3abf14c2107",
   "metadata": {},
   "outputs": [
    {
     "name": "stdin",
     "output_type": "stream",
     "text": [
      "Enter a number:  1\n",
      "Enter a range (0-?):  12\n"
     ]
    },
    {
     "name": "stdout",
     "output_type": "stream",
     "text": [
      "Is in range?  True\n"
     ]
    }
   ],
   "source": [
    "def is_in_range(test, limit):\n",
    "    print('Is in range? ', 0 <= test <= limit)\n",
    "\n",
    "\n",
    "if __name__ == '__main__':\n",
    "    test = input('Enter a number: ')\n",
    "    limit = input('Enter a range (0-?): ')\n",
    "    is_in_range(float(test), float(limit))"
   ]
  },
  {
   "cell_type": "code",
   "execution_count": null,
   "id": "24b8c721-b521-46b3-9fea-7c48fbbee976",
   "metadata": {},
   "outputs": [],
   "source": []
  }
 ],
 "metadata": {
  "kernelspec": {
   "display_name": "Python 3.9",
   "language": "python",
   "name": "python39"
  },
  "language_info": {
   "codemirror_mode": {
    "name": "ipython",
    "version": 3
   },
   "file_extension": ".py",
   "mimetype": "text/x-python",
   "name": "python",
   "nbconvert_exporter": "python",
   "pygments_lexer": "ipython3",
   "version": "3.9.7"
  }
 },
 "nbformat": 4,
 "nbformat_minor": 5
}
