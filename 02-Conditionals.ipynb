{
 "cells": [
  {
   "cell_type": "markdown",
   "id": "7e46bbe7-7d4a-4b75-af50-1354da4ba97f",
   "metadata": {},
   "source": [
    "# Conditionals/Control-Flow"
   ]
  },
  {
   "cell_type": "code",
   "execution_count": 1,
   "id": "5c372f2d-9cb2-45b1-99ad-2c0a0c63a669",
   "metadata": {},
   "outputs": [],
   "source": [
    "a = 5\n",
    "b = 6"
   ]
  },
  {
   "cell_type": "code",
   "execution_count": 2,
   "id": "fe3493a8-4fdb-405c-8314-9090289bb8a6",
   "metadata": {},
   "outputs": [
    {
     "data": {
      "text/plain": [
       "False"
      ]
     },
     "execution_count": 2,
     "metadata": {},
     "output_type": "execute_result"
    }
   ],
   "source": [
    "a > b"
   ]
  },
  {
   "cell_type": "code",
   "execution_count": 3,
   "id": "bb3aadb8-1d63-41e9-882a-a71e5a5f6a9b",
   "metadata": {},
   "outputs": [
    {
     "name": "stdout",
     "output_type": "stream",
     "text": [
      "5 is less than 6\n"
     ]
    }
   ],
   "source": [
    "if a < b:\n",
    "    print(a, 'is less than', b)"
   ]
  },
  {
   "cell_type": "code",
   "execution_count": 5,
   "id": "517c9c32-e49a-444a-86a0-13eb9ba01bcd",
   "metadata": {},
   "outputs": [
    {
     "name": "stdout",
     "output_type": "stream",
     "text": [
      "smaller\n"
     ]
    }
   ],
   "source": [
    "if a < b:\n",
    "    print('smaller')\n",
    "elif a > b:\n",
    "    ('bigger')\n",
    "else:\n",
    "    print('same')"
   ]
  },
  {
   "cell_type": "code",
   "execution_count": 6,
   "id": "bdcf3cf1-b803-49f5-ba26-39eb801913d6",
   "metadata": {},
   "outputs": [
    {
     "data": {
      "text/plain": [
       "True"
      ]
     },
     "execution_count": 6,
     "metadata": {},
     "output_type": "execute_result"
    }
   ],
   "source": [
    "10 <= 50 <= 100"
   ]
  },
  {
   "cell_type": "code",
   "execution_count": 7,
   "id": "7437d8d8-861d-4153-ab10-2c1982ff7112",
   "metadata": {},
   "outputs": [],
   "source": [
    "lower = 10\n",
    "upper = 100\n",
    "value = 50"
   ]
  },
  {
   "cell_type": "code",
   "execution_count": 8,
   "id": "8dde2977-23db-4eee-8894-f89004b50bd0",
   "metadata": {},
   "outputs": [
    {
     "data": {
      "text/plain": [
       "True"
      ]
     },
     "execution_count": 8,
     "metadata": {},
     "output_type": "execute_result"
    }
   ],
   "source": [
    "lower <= value <= upper"
   ]
  },
  {
   "cell_type": "code",
   "execution_count": 9,
   "id": "6b8cd314-da11-4d05-826d-2f1d24ad398a",
   "metadata": {},
   "outputs": [
    {
     "data": {
      "text/plain": [
       "True"
      ]
     },
     "execution_count": 9,
     "metadata": {},
     "output_type": "execute_result"
    }
   ],
   "source": [
    "(lower <= value) and (value <= upper) # logical AND"
   ]
  },
  {
   "cell_type": "code",
   "execution_count": 11,
   "id": "5f2fe201-4b46-4153-b018-7815144496ad",
   "metadata": {},
   "outputs": [
    {
     "data": {
      "text/plain": [
       "True"
      ]
     },
     "execution_count": 11,
     "metadata": {},
     "output_type": "execute_result"
    }
   ],
   "source": [
    "# python always short-circuits conditional statements\n",
    "# to make sure that each side of the statement is executed, you can do this\n",
    "a = (lower <= value)\n",
    "b = (value <= upper)\n",
    "a and b"
   ]
  },
  {
   "cell_type": "code",
   "execution_count": 12,
   "id": "95ddf275-0021-47f1-90a1-c4683eb2b244",
   "metadata": {},
   "outputs": [
    {
     "data": {
      "text/plain": [
       "True"
      ]
     },
     "execution_count": 12,
     "metadata": {},
     "output_type": "execute_result"
    }
   ],
   "source": [
    "'a' in 'abc'"
   ]
  },
  {
   "cell_type": "code",
   "execution_count": 13,
   "id": "a82bb5aa-e437-4e0b-83d4-241f8aa1853e",
   "metadata": {},
   "outputs": [
    {
     "data": {
      "text/plain": [
       "True"
      ]
     },
     "execution_count": 13,
     "metadata": {},
     "output_type": "execute_result"
    }
   ],
   "source": [
    "'x' not in 'abc'"
   ]
  },
  {
   "cell_type": "code",
   "execution_count": 14,
   "id": "f80b68df-86c9-48e9-b26b-efca21f49056",
   "metadata": {},
   "outputs": [
    {
     "data": {
      "text/plain": [
       "True"
      ]
     },
     "execution_count": 14,
     "metadata": {},
     "output_type": "execute_result"
    }
   ],
   "source": [
    "not 'x' in 'abc'"
   ]
  },
  {
   "cell_type": "markdown",
   "id": "dcd15907-81ed-4dcf-b0b0-2563d7f114c8",
   "metadata": {},
   "source": [
    "## Input"
   ]
  },
  {
   "cell_type": "code",
   "execution_count": 15,
   "id": "d7d7e85c-3373-4454-8910-c706299b0929",
   "metadata": {},
   "outputs": [
    {
     "name": "stdin",
     "output_type": "stream",
     "text": [
      "Input:  test\n"
     ]
    },
    {
     "data": {
      "text/plain": [
       "'test'"
      ]
     },
     "execution_count": 15,
     "metadata": {},
     "output_type": "execute_result"
    }
   ],
   "source": [
    "input('Input: ')"
   ]
  },
  {
   "cell_type": "code",
   "execution_count": 16,
   "id": "6436fd40-f586-4ee6-ada5-22a2fd6dbe12",
   "metadata": {},
   "outputs": [
    {
     "name": "stdin",
     "output_type": "stream",
     "text": [
      "input:  test\n"
     ]
    }
   ],
   "source": [
    "input = input('input: ')"
   ]
  },
  {
   "cell_type": "code",
   "execution_count": 17,
   "id": "153a058d-3fad-477a-a558-1e067c6e027f",
   "metadata": {},
   "outputs": [
    {
     "data": {
      "text/plain": [
       "'testtest'"
      ]
     },
     "execution_count": 17,
     "metadata": {},
     "output_type": "execute_result"
    }
   ],
   "source": [
    "input * 2"
   ]
  },
  {
   "cell_type": "code",
   "execution_count": null,
   "id": "35b430f3-f7f2-435b-b6e8-10f18c2a555d",
   "metadata": {},
   "outputs": [],
   "source": []
  }
 ],
 "metadata": {
  "kernelspec": {
   "display_name": "Python 3.9",
   "language": "python",
   "name": "python39"
  },
  "language_info": {
   "codemirror_mode": {
    "name": "ipython",
    "version": 3
   },
   "file_extension": ".py",
   "mimetype": "text/x-python",
   "name": "python",
   "nbconvert_exporter": "python",
   "pygments_lexer": "ipython3",
   "version": "3.9.7"
  }
 },
 "nbformat": 4,
 "nbformat_minor": 5
}
