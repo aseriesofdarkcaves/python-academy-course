{
 "cells": [
  {
   "cell_type": "markdown",
   "id": "25707297-953d-4104-847c-0b6c64cb3e1f",
   "metadata": {},
   "source": [
    "# Datatypes Exercises\n",
    "## Exercise 1"
   ]
  },
  {
   "cell_type": "code",
   "execution_count": 1,
   "id": "9965702d-404d-40ff-9640-2a78580c1bc4",
   "metadata": {},
   "outputs": [
    {
     "name": "stdout",
     "output_type": "stream",
     "text": [
      "Second element:  2\n",
      "sub-tuple from 2nd until second-last:  (2, 3, 4, 5.5, 6.6, 7.7, 8.8, 'we', 'are', 'the', 'kights', 'who', 'say')\n"
     ]
    }
   ],
   "source": [
    "my_tuple = (1, 2, 3, 4, 5.5, 6.6, 7.7, 8.8, 'we', 'are', 'the', 'kights', 'who', 'say', 'nii')\n",
    "\n",
    "if __name__ == '__main__':\n",
    "    print('Second element: ', my_tuple[1])\n",
    "\n",
    "    print('sub-tuple from 2nd until second-last: ', my_tuple[1:-1])"
   ]
  },
  {
   "cell_type": "markdown",
   "id": "6caec905-87b6-4fdb-abff-92fd4870624f",
   "metadata": {},
   "source": [
    "## Exercise 2"
   ]
  },
  {
   "cell_type": "code",
   "execution_count": 2,
   "id": "d9eb17bd-0b3e-4fcc-97ad-c5f34ffc146f",
   "metadata": {},
   "outputs": [
    {
     "name": "stdout",
     "output_type": "stream",
     "text": [
      "Original tuple:  <class 'tuple'>\n"
     ]
    },
    {
     "ename": "TypeError",
     "evalue": "unsupported operand type(s) for *: 'type' and 'int'",
     "output_type": "error",
     "traceback": [
      "\u001b[0;31m---------------------------------------------------------------------------\u001b[0m",
      "\u001b[0;31mTypeError\u001b[0m                                 Traceback (most recent call last)",
      "\u001b[0;32m/tmp/ipykernel_73358/1272735967.py\u001b[0m in \u001b[0;36m<module>\u001b[0;34m\u001b[0m\n\u001b[1;32m      3\u001b[0m \u001b[0;32mif\u001b[0m \u001b[0m__name__\u001b[0m \u001b[0;34m==\u001b[0m \u001b[0;34m'__main__'\u001b[0m\u001b[0;34m:\u001b[0m\u001b[0;34m\u001b[0m\u001b[0;34m\u001b[0m\u001b[0m\n\u001b[1;32m      4\u001b[0m     \u001b[0mprint\u001b[0m\u001b[0;34m(\u001b[0m\u001b[0;34m'Original tuple: '\u001b[0m\u001b[0;34m,\u001b[0m \u001b[0mtuple\u001b[0m\u001b[0;34m)\u001b[0m\u001b[0;34m\u001b[0m\u001b[0;34m\u001b[0m\u001b[0m\n\u001b[0;32m----> 5\u001b[0;31m     \u001b[0mmy_bigger_tuple\u001b[0m \u001b[0;34m=\u001b[0m \u001b[0mtuple\u001b[0m \u001b[0;34m*\u001b[0m \u001b[0;36m3\u001b[0m\u001b[0;34m\u001b[0m\u001b[0;34m\u001b[0m\u001b[0m\n\u001b[0m\u001b[1;32m      6\u001b[0m     \u001b[0mprint\u001b[0m\u001b[0;34m(\u001b[0m\u001b[0;34m'This tuple should contain 3 times as many elements as it initially had: '\u001b[0m\u001b[0;34m,\u001b[0m \u001b[0mmy_bigger_tuple\u001b[0m\u001b[0;34m)\u001b[0m\u001b[0;34m\u001b[0m\u001b[0;34m\u001b[0m\u001b[0m\n",
      "\u001b[0;31mTypeError\u001b[0m: unsupported operand type(s) for *: 'type' and 'int'"
     ]
    }
   ],
   "source": [
    "my_tuple = (1, 2, 3, 4, 5.5, 6.6, 7.7, 8.8, 'we', 'are', 'the', 'kights', 'who', 'say', 'nii')\n",
    "\n",
    "if __name__ == '__main__':\n",
    "    print('Original tuple: ', tuple)\n",
    "    my_bigger_tuple = tuple * 3\n",
    "    print('This tuple should contain 3 times as many elements as it initially had: ', my_bigger_tuple)"
   ]
  },
  {
   "cell_type": "code",
   "execution_count": null,
   "id": "44932784-ecc4-4ad5-a2ce-29047f24481a",
   "metadata": {},
   "outputs": [],
   "source": []
  }
 ],
 "metadata": {
  "kernelspec": {
   "display_name": "Python 3.9",
   "language": "python",
   "name": "python39"
  },
  "language_info": {
   "codemirror_mode": {
    "name": "ipython",
    "version": 3
   },
   "file_extension": ".py",
   "mimetype": "text/x-python",
   "name": "python",
   "nbconvert_exporter": "python",
   "pygments_lexer": "ipython3",
   "version": "3.9.7"
  }
 },
 "nbformat": 4,
 "nbformat_minor": 5
}
