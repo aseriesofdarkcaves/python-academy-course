{
 "cells": [
  {
   "cell_type": "markdown",
   "id": "df10dc38-0535-4217-bf0c-ad674d101f40",
   "metadata": {},
   "source": [
    "# Datatypes"
   ]
  },
  {
   "cell_type": "code",
   "execution_count": 1,
   "id": "ccb52202-b692-466a-9520-fe0b088ca26f",
   "metadata": {},
   "outputs": [
    {
     "data": {
      "text/plain": [
       "int"
      ]
     },
     "execution_count": 1,
     "metadata": {},
     "output_type": "execute_result"
    }
   ],
   "source": [
    "# simple datatypes\n",
    "type(1)"
   ]
  },
  {
   "cell_type": "code",
   "execution_count": 2,
   "id": "3dec49fc-1b88-4b8f-a0c6-6ee9258beee2",
   "metadata": {},
   "outputs": [],
   "source": [
    "# for various functions\n",
    "import sys"
   ]
  },
  {
   "cell_type": "code",
   "execution_count": 3,
   "id": "10bcd7d1-a1e7-42aa-866e-c5221210969e",
   "metadata": {},
   "outputs": [
    {
     "data": {
      "text/plain": [
       "9223372036854775807"
      ]
     },
     "execution_count": 3,
     "metadata": {},
     "output_type": "execute_result"
    }
   ],
   "source": [
    "sys.maxsize"
   ]
  },
  {
   "cell_type": "code",
   "execution_count": 4,
   "id": "21813983-292b-4d11-82d2-34c7cfd6632f",
   "metadata": {},
   "outputs": [
    {
     "data": {
      "text/plain": [
       "92233720368547758070"
      ]
     },
     "execution_count": 4,
     "metadata": {},
     "output_type": "execute_result"
    }
   ],
   "source": [
    "sys.maxsize * 10"
   ]
  },
  {
   "cell_type": "code",
   "execution_count": 5,
   "id": "31904602-329d-43c9-9fa4-45a481885082",
   "metadata": {},
   "outputs": [],
   "source": [
    "# python can deal with integer overflows - as long as you have memory"
   ]
  },
  {
   "cell_type": "code",
   "execution_count": 6,
   "id": "2543c99c-12f7-4342-aa07-b2a4025ad674",
   "metadata": {},
   "outputs": [
    {
     "data": {
      "text/plain": [
       "84024"
      ]
     },
     "execution_count": 6,
     "metadata": {},
     "output_type": "execute_result"
    }
   ],
   "source": [
    "# the output is in bytes\n",
    "x = sys.maxsize ** 10000\n",
    "sys.getsizeof(x)"
   ]
  },
  {
   "cell_type": "code",
   "execution_count": 7,
   "id": "0a43bc76-d029-43cb-9f3f-7118712bef72",
   "metadata": {},
   "outputs": [
    {
     "data": {
      "text/plain": [
       "28"
      ]
     },
     "execution_count": 7,
     "metadata": {},
     "output_type": "execute_result"
    }
   ],
   "source": [
    "# python represents integers in memory in a bit of an unexpected way - units are bytes (64-bit / 8 bits = 8, but...)\n",
    "sys.getsizeof(1)"
   ]
  },
  {
   "cell_type": "code",
   "execution_count": 8,
   "id": "e7cd4688-5dc2-4af2-8505-3637c7abaf20",
   "metadata": {},
   "outputs": [
    {
     "data": {
      "text/plain": [
       "sys.float_info(max=1.7976931348623157e+308, max_exp=1024, max_10_exp=308, min=2.2250738585072014e-308, min_exp=-1021, min_10_exp=-307, dig=15, mant_dig=53, epsilon=2.220446049250313e-16, radix=2, rounds=1)"
      ]
     },
     "execution_count": 8,
     "metadata": {},
     "output_type": "execute_result"
    }
   ],
   "source": [
    "# you can get info about datatypes via sys\n",
    "sys.float_info"
   ]
  },
  {
   "cell_type": "code",
   "execution_count": 9,
   "id": "647830d4-5609-407c-9b4e-bf7ce804a8eb",
   "metadata": {},
   "outputs": [
    {
     "data": {
      "text/plain": [
       "1e+16"
      ]
     },
     "execution_count": 9,
     "metadata": {},
     "output_type": "execute_result"
    }
   ],
   "source": [
    "# scientific notation is supported\n",
    "1e16"
   ]
  },
  {
   "cell_type": "code",
   "execution_count": 10,
   "id": "d2621be3-9cc8-46a1-a957-4659edd88631",
   "metadata": {},
   "outputs": [
    {
     "data": {
      "text/plain": [
       "float"
      ]
     },
     "execution_count": 10,
     "metadata": {},
     "output_type": "execute_result"
    }
   ],
   "source": [
    "type(1e16)"
   ]
  },
  {
   "cell_type": "code",
   "execution_count": 11,
   "id": "2e85032a-7392-4b23-9f02-78c6862c2d62",
   "metadata": {},
   "outputs": [
    {
     "data": {
      "text/plain": [
       "(3+5j)"
      ]
     },
     "execution_count": 11,
     "metadata": {},
     "output_type": "execute_result"
    }
   ],
   "source": [
    "# imaginary/complex numbers are supported\n",
    "3 + 5j"
   ]
  },
  {
   "cell_type": "code",
   "execution_count": 12,
   "id": "50c33c95-c776-4975-acb0-2006c12eb78c",
   "metadata": {},
   "outputs": [
    {
     "data": {
      "text/plain": [
       "complex"
      ]
     },
     "execution_count": 12,
     "metadata": {},
     "output_type": "execute_result"
    }
   ],
   "source": [
    "type(3 + 3j)"
   ]
  },
  {
   "cell_type": "code",
   "execution_count": 13,
   "id": "23fa508e-761f-4ed5-b0bd-d059b220680f",
   "metadata": {},
   "outputs": [],
   "source": [
    "c = 4 + 6j"
   ]
  },
  {
   "cell_type": "code",
   "execution_count": 14,
   "id": "7b875555-9c96-47c3-a61f-e01e5312f9fa",
   "metadata": {},
   "outputs": [
    {
     "data": {
      "text/plain": [
       "6.0"
      ]
     },
     "execution_count": 14,
     "metadata": {},
     "output_type": "execute_result"
    }
   ],
   "source": [
    "c.imag"
   ]
  },
  {
   "cell_type": "code",
   "execution_count": 15,
   "id": "c386877a-5e2f-4511-a3e9-4f0e7fea2553",
   "metadata": {},
   "outputs": [
    {
     "data": {
      "text/plain": [
       "4.0"
      ]
     },
     "execution_count": 15,
     "metadata": {},
     "output_type": "execute_result"
    }
   ],
   "source": [
    "c.real"
   ]
  },
  {
   "cell_type": "code",
   "execution_count": 16,
   "id": "6b65df1b-0434-4824-b5d2-e9dc382a4111",
   "metadata": {},
   "outputs": [],
   "source": [
    "# void type\n",
    "None"
   ]
  },
  {
   "cell_type": "code",
   "execution_count": 17,
   "id": "3a4612fb-a42c-454c-ae34-e945364e7472",
   "metadata": {},
   "outputs": [
    {
     "data": {
      "text/plain": [
       "True"
      ]
     },
     "execution_count": 17,
     "metadata": {},
     "output_type": "execute_result"
    }
   ],
   "source": [
    "# booleans\n",
    "bool(12)"
   ]
  },
  {
   "cell_type": "code",
   "execution_count": 18,
   "id": "01883bb4-56d2-43e1-aa2d-5b5d843845be",
   "metadata": {},
   "outputs": [
    {
     "data": {
      "text/plain": [
       "True"
      ]
     },
     "execution_count": 18,
     "metadata": {},
     "output_type": "execute_result"
    }
   ],
   "source": [
    "bool(1)"
   ]
  },
  {
   "cell_type": "code",
   "execution_count": 19,
   "id": "6d5163b9-5c9d-4194-8316-4e04c586b257",
   "metadata": {},
   "outputs": [
    {
     "data": {
      "text/plain": [
       "False"
      ]
     },
     "execution_count": 19,
     "metadata": {},
     "output_type": "execute_result"
    }
   ],
   "source": [
    "bool(0)"
   ]
  },
  {
   "cell_type": "code",
   "execution_count": 20,
   "id": "9aa50583-c2c1-4294-b5d0-565219c101b0",
   "metadata": {},
   "outputs": [
    {
     "data": {
      "text/plain": [
       "True"
      ]
     },
     "execution_count": 20,
     "metadata": {},
     "output_type": "execute_result"
    }
   ],
   "source": [
    "bool(-1)"
   ]
  },
  {
   "cell_type": "code",
   "execution_count": 21,
   "id": "5670a240-90b6-42ca-b84d-668135cd5405",
   "metadata": {},
   "outputs": [
    {
     "data": {
      "text/plain": [
       "False"
      ]
     },
     "execution_count": 21,
     "metadata": {},
     "output_type": "execute_result"
    }
   ],
   "source": [
    "bool('')"
   ]
  },
  {
   "cell_type": "code",
   "execution_count": 22,
   "id": "fe20a7b9-5d38-4dbb-8442-245654468057",
   "metadata": {},
   "outputs": [
    {
     "data": {
      "text/plain": [
       "True"
      ]
     },
     "execution_count": 22,
     "metadata": {},
     "output_type": "execute_result"
    }
   ],
   "source": [
    "bool(' ')"
   ]
  },
  {
   "cell_type": "markdown",
   "id": "d60c2c1a-2aa8-4819-9a94-b3fbe8926198",
   "metadata": {},
   "source": [
    "## Collections\n",
    "### Sequences"
   ]
  },
  {
   "cell_type": "code",
   "execution_count": 23,
   "id": "b5ccc582-0aae-4d39-9e97-d2bdcbcec762",
   "metadata": {},
   "outputs": [],
   "source": [
    "# list\n",
    "list = [1, 2, 3]\n",
    "tuple = (1, 2, 3)\n",
    "string = 'abc'"
   ]
  },
  {
   "cell_type": "code",
   "execution_count": 24,
   "id": "cc158e15-eebc-4987-bd46-72d92b5a7802",
   "metadata": {},
   "outputs": [
    {
     "data": {
      "text/plain": [
       "1"
      ]
     },
     "execution_count": 24,
     "metadata": {},
     "output_type": "execute_result"
    }
   ],
   "source": [
    "list[0]"
   ]
  },
  {
   "cell_type": "code",
   "execution_count": 25,
   "id": "7f8b720e-eb5b-4433-8919-7227d27b197d",
   "metadata": {},
   "outputs": [
    {
     "data": {
      "text/plain": [
       "2"
      ]
     },
     "execution_count": 25,
     "metadata": {},
     "output_type": "execute_result"
    }
   ],
   "source": [
    "tuple[1]"
   ]
  },
  {
   "cell_type": "code",
   "execution_count": 26,
   "id": "6da66ee5-4996-4ff6-bb9d-5d9e34aa6050",
   "metadata": {},
   "outputs": [
    {
     "data": {
      "text/plain": [
       "'c'"
      ]
     },
     "execution_count": 26,
     "metadata": {},
     "output_type": "execute_result"
    }
   ],
   "source": [
    "string[2]"
   ]
  },
  {
   "cell_type": "markdown",
   "id": "8853a9e2-60d5-4e89-b392-5dc449d6e0c5",
   "metadata": {},
   "source": [
    "### Dict (Dictionary)"
   ]
  },
  {
   "cell_type": "code",
   "execution_count": 27,
   "id": "bd85ff90-5b4b-43d7-859b-454f837ff9f8",
   "metadata": {},
   "outputs": [],
   "source": [
    "dictionary = {'a': 100, 'b': 200, 'c': 300}"
   ]
  },
  {
   "cell_type": "code",
   "execution_count": 28,
   "id": "16eb3ec4-2af2-4c2d-8d09-7fb6391820d3",
   "metadata": {},
   "outputs": [
    {
     "data": {
      "text/plain": [
       "{'a': 100, 'b': 200, 'c': 300}"
      ]
     },
     "execution_count": 28,
     "metadata": {},
     "output_type": "execute_result"
    }
   ],
   "source": [
    "dictionary"
   ]
  },
  {
   "cell_type": "code",
   "execution_count": 29,
   "id": "54b8b6e2-1222-4ea8-9181-082dfee54d88",
   "metadata": {},
   "outputs": [
    {
     "data": {
      "text/plain": [
       "100"
      ]
     },
     "execution_count": 29,
     "metadata": {},
     "output_type": "execute_result"
    }
   ],
   "source": [
    "dictionary['a']"
   ]
  },
  {
   "cell_type": "code",
   "execution_count": 30,
   "id": "76220d6a-5295-4230-b49f-a45f426bcf82",
   "metadata": {},
   "outputs": [
    {
     "data": {
      "text/plain": [
       "dict"
      ]
     },
     "execution_count": 30,
     "metadata": {},
     "output_type": "execute_result"
    }
   ],
   "source": [
    "type(dictionary)"
   ]
  },
  {
   "cell_type": "markdown",
   "id": "a881a431-0397-421e-95d1-feee0abdf107",
   "metadata": {},
   "source": [
    "## Sets"
   ]
  },
  {
   "cell_type": "code",
   "execution_count": 31,
   "id": "a28ee4dd-f800-45a5-a495-2c7cf1fdf795",
   "metadata": {},
   "outputs": [],
   "source": [
    "# literal set\n",
    "my_set = {1, 2, 3}"
   ]
  },
  {
   "cell_type": "code",
   "execution_count": 32,
   "id": "cc4fe103-bcac-4936-9592-899b62e55c29",
   "metadata": {},
   "outputs": [
    {
     "data": {
      "text/plain": [
       "set"
      ]
     },
     "execution_count": 32,
     "metadata": {},
     "output_type": "execute_result"
    }
   ],
   "source": [
    "type(my_set)"
   ]
  },
  {
   "cell_type": "code",
   "execution_count": 33,
   "id": "fb6ee296-441d-44f5-8a60-82a2c729f00e",
   "metadata": {},
   "outputs": [
    {
     "data": {
      "text/plain": [
       "set"
      ]
     },
     "execution_count": 33,
     "metadata": {},
     "output_type": "execute_result"
    }
   ],
   "source": [
    "# create set instance using a the set class - here we feed it a list\n",
    "my_other_set = set([1, 2, 3])\n",
    "type(my_other_set)"
   ]
  },
  {
   "cell_type": "markdown",
   "id": "4aa27548-d59b-44a2-be87-af1cee23dfa6",
   "metadata": {},
   "source": [
    "## String\n",
    "String values are immutable, but you can point the reference to a new value (like in Java)"
   ]
  },
  {
   "cell_type": "code",
   "execution_count": 34,
   "id": "0855334e-28be-4806-ad28-b5fac52e3f98",
   "metadata": {},
   "outputs": [],
   "source": [
    "s = 'abcdefghij'"
   ]
  },
  {
   "cell_type": "code",
   "execution_count": 35,
   "id": "c1c6699b-c54b-4d4c-aa20-62de037bf1e0",
   "metadata": {},
   "outputs": [
    {
     "data": {
      "text/plain": [
       "True"
      ]
     },
     "execution_count": 35,
     "metadata": {},
     "output_type": "execute_result"
    }
   ],
   "source": [
    "'abc' in s"
   ]
  },
  {
   "cell_type": "code",
   "execution_count": 36,
   "id": "a742f57f-a15e-4aff-a759-0e57a76c98a8",
   "metadata": {},
   "outputs": [
    {
     "data": {
      "text/plain": [
       "'abcdefghijabcdefghij'"
      ]
     },
     "execution_count": 36,
     "metadata": {},
     "output_type": "execute_result"
    }
   ],
   "source": [
    "# concatenation\n",
    "s + s"
   ]
  },
  {
   "cell_type": "code",
   "execution_count": 37,
   "id": "1326dcd7-36dc-477c-9359-4ae77acf52f4",
   "metadata": {},
   "outputs": [
    {
     "data": {
      "text/plain": [
       "'abcdefghijabcdefghij'"
      ]
     },
     "execution_count": 37,
     "metadata": {},
     "output_type": "execute_result"
    }
   ],
   "source": [
    "s * 2"
   ]
  },
  {
   "cell_type": "code",
   "execution_count": 38,
   "id": "9b1d95f4-5412-451e-aeeb-e497aceed66a",
   "metadata": {},
   "outputs": [
    {
     "data": {
      "text/plain": [
       "'################################################################################'"
      ]
     },
     "execution_count": 38,
     "metadata": {},
     "output_type": "execute_result"
    }
   ],
   "source": [
    "'#' * 80"
   ]
  },
  {
   "cell_type": "code",
   "execution_count": 39,
   "id": "03fde420-1d0d-45a4-a26d-7ac08d199f87",
   "metadata": {},
   "outputs": [
    {
     "data": {
      "text/plain": [
       "'a'"
      ]
     },
     "execution_count": 39,
     "metadata": {},
     "output_type": "execute_result"
    }
   ],
   "source": [
    "# string indices\n",
    "s[0]"
   ]
  },
  {
   "cell_type": "code",
   "execution_count": 40,
   "id": "e689d941-9c18-43dd-ab30-9f9e758242fd",
   "metadata": {},
   "outputs": [
    {
     "data": {
      "text/plain": [
       "'j'"
      ]
     },
     "execution_count": 40,
     "metadata": {},
     "output_type": "execute_result"
    }
   ],
   "source": [
    "# reference from the end of the string\n",
    "s[-1]"
   ]
  },
  {
   "cell_type": "code",
   "execution_count": 41,
   "id": "5f41e809-3d0c-46da-ba77-31cddf419ca6",
   "metadata": {},
   "outputs": [
    {
     "data": {
      "text/plain": [
       "'cd'"
      ]
     },
     "execution_count": 41,
     "metadata": {},
     "output_type": "execute_result"
    }
   ],
   "source": [
    "# \"slicing\" into substrings\n",
    "s[2:4]"
   ]
  },
  {
   "cell_type": "code",
   "execution_count": 42,
   "id": "b5c94a44-061b-4498-bb7f-3cf743ec8f19",
   "metadata": {},
   "outputs": [
    {
     "data": {
      "text/plain": [
       "'abcd'"
      ]
     },
     "execution_count": 42,
     "metadata": {},
     "output_type": "execute_result"
    }
   ],
   "source": [
    "# start up to\n",
    "s[:4]"
   ]
  },
  {
   "cell_type": "code",
   "execution_count": 43,
   "id": "3e9d2314-0c37-4a31-ad8b-334b793880e8",
   "metadata": {},
   "outputs": [
    {
     "data": {
      "text/plain": [
       "'efghij'"
      ]
     },
     "execution_count": 43,
     "metadata": {},
     "output_type": "execute_result"
    }
   ],
   "source": [
    "# from to end\n",
    "s[4:]"
   ]
  },
  {
   "cell_type": "code",
   "execution_count": 44,
   "id": "a0ba2397-84fc-4aa3-933e-76d02bd5bd69",
   "metadata": {},
   "outputs": [
    {
     "name": "stdout",
     "output_type": "stream",
     "text": [
      "abcdefghij\n"
     ]
    },
    {
     "data": {
      "text/plain": [
       "'ceg'"
      ]
     },
     "execution_count": 44,
     "metadata": {},
     "output_type": "execute_result"
    }
   ],
   "source": [
    "# from 2 to 8, taking every second [start-inclusive:end-exclusive:step]\n",
    "print(s)\n",
    "s[2:8:2]"
   ]
  },
  {
   "cell_type": "code",
   "execution_count": 45,
   "id": "1c7b19e6-d18e-485c-9ce2-d044edf771c2",
   "metadata": {},
   "outputs": [
    {
     "data": {
      "text/plain": [
       "'acegi'"
      ]
     },
     "execution_count": 45,
     "metadata": {},
     "output_type": "execute_result"
    }
   ],
   "source": [
    "s[::2]"
   ]
  },
  {
   "cell_type": "code",
   "execution_count": 46,
   "id": "2336386c-d7da-4ffe-89e2-9306af882b75",
   "metadata": {},
   "outputs": [
    {
     "data": {
      "text/plain": [
       "'bdfhj'"
      ]
     },
     "execution_count": 46,
     "metadata": {},
     "output_type": "execute_result"
    }
   ],
   "source": [
    "s[1::2]"
   ]
  },
  {
   "cell_type": "code",
   "execution_count": 47,
   "id": "be1da2df-480f-4d22-8e3e-b4e86052a774",
   "metadata": {},
   "outputs": [
    {
     "name": "stdout",
     "output_type": "stream",
     "text": [
      "0000000123\n"
     ]
    }
   ],
   "source": [
    "# formatting example\n",
    "a = 123\n",
    "print(f'{a:010d}')"
   ]
  },
  {
   "cell_type": "markdown",
   "id": "72a967ec-806e-4208-bd75-56813cf403e0",
   "metadata": {},
   "source": [
    "## Assertions"
   ]
  },
  {
   "cell_type": "code",
   "execution_count": 48,
   "id": "d99cc592-b27a-4390-b25b-12b91886163e",
   "metadata": {},
   "outputs": [],
   "source": [
    "# you can actually turn off assertions when executing...\n",
    "# this statement doesn't return anything, only throws an exception when it fails\n",
    "assert 1 == 1"
   ]
  },
  {
   "cell_type": "code",
   "execution_count": 49,
   "id": "bb3feb12-07b1-401b-b5e9-f12245025be8",
   "metadata": {},
   "outputs": [],
   "source": [
    "# this should fail\n",
    "# assert 1 == 2, 'Assertion failed'"
   ]
  },
  {
   "cell_type": "code",
   "execution_count": 50,
   "id": "523199d8-bf90-4598-941a-388eb7fcfeb6",
   "metadata": {},
   "outputs": [
    {
     "name": "stdout",
     "output_type": "stream",
     "text": [
      "  0              abcdefghij\n",
      "  1 a            bcdefghij\n",
      "  2 ab           cdefghij\n",
      "  3 abc          defghij\n",
      "  4 abcd         efghij\n",
      "  5 abcde        fghij\n",
      "  6 abcdef       ghij\n",
      "  7 abcdefg      hij\n",
      "  8 abcdefgh     ij\n",
      "  9 abcdefghi    j\n",
      " 10 abcdefghij   \n",
      " 11 abcdefghij   \n",
      " 12 abcdefghij   \n",
      " 13 abcdefghij   \n",
      " 14 abcdefghij   \n"
     ]
    }
   ],
   "source": [
    "# not very readable... but whatever...\n",
    "for n in range(15):\n",
    "    # use a format string here by prefixing f - this is relatively new syntax\n",
    "    # unfortunately we have overloaded s here (variable/string delimiter for formatter)\n",
    "    print(f'{n:3d} {s[:n]:12s} {s[n:]}')\n",
    "    assert s[:n] + s[n:] == s"
   ]
  },
  {
   "cell_type": "markdown",
   "id": "4f2c0183-ff25-42ae-83ae-af8865d790ae",
   "metadata": {},
   "source": [
    "## Other random stuff\n",
    "A lot of the various datatypes share basic functions that are available to them. There are exceptions, but it's a good rule of thumb."
   ]
  },
  {
   "cell_type": "code",
   "execution_count": 51,
   "id": "907763c1-7a85-4491-bd42-2d369a29d3c1",
   "metadata": {},
   "outputs": [
    {
     "data": {
      "text/plain": [
       "10"
      ]
     },
     "execution_count": 51,
     "metadata": {},
     "output_type": "execute_result"
    }
   ],
   "source": [
    "len(s)"
   ]
  },
  {
   "cell_type": "code",
   "execution_count": 52,
   "id": "a74001ac-d2a2-45d0-b33e-043cc6d7fd7d",
   "metadata": {},
   "outputs": [
    {
     "data": {
      "text/plain": [
       "10"
      ]
     },
     "execution_count": 52,
     "metadata": {},
     "output_type": "execute_result"
    }
   ],
   "source": [
    "# this will be explained later apparently...\n",
    "s.__len__()"
   ]
  },
  {
   "cell_type": "code",
   "execution_count": 53,
   "id": "88d86d11-f61e-4c5c-97af-bf1c33b7a290",
   "metadata": {},
   "outputs": [
    {
     "data": {
      "text/plain": [
       "'a'"
      ]
     },
     "execution_count": 53,
     "metadata": {},
     "output_type": "execute_result"
    }
   ],
   "source": [
    "# minimum\n",
    "min(s)"
   ]
  },
  {
   "cell_type": "code",
   "execution_count": 54,
   "id": "47b2b8f3-6c9b-4985-ab1a-4b4870e302e1",
   "metadata": {},
   "outputs": [
    {
     "data": {
      "text/plain": [
       "'j'"
      ]
     },
     "execution_count": 54,
     "metadata": {},
     "output_type": "execute_result"
    }
   ],
   "source": [
    "# maximum\n",
    "max(s)"
   ]
  },
  {
   "cell_type": "code",
   "execution_count": 55,
   "id": "4bfd1405-b2fa-48a1-b3f3-dd033b7fe77d",
   "metadata": {},
   "outputs": [
    {
     "data": {
      "text/plain": [
       "1"
      ]
     },
     "execution_count": 55,
     "metadata": {},
     "output_type": "execute_result"
    }
   ],
   "source": [
    "s.count('e')"
   ]
  },
  {
   "cell_type": "code",
   "execution_count": 56,
   "id": "6a1718fc-b1f1-49d7-8e50-90a4c9af80f2",
   "metadata": {},
   "outputs": [],
   "source": [
    "s2 = 'gjereeeherewhatupsimpleboomstave'"
   ]
  },
  {
   "cell_type": "code",
   "execution_count": 57,
   "id": "fc8bd398-13d8-4c90-9dd5-9bd9a45533f5",
   "metadata": {},
   "outputs": [
    {
     "data": {
      "text/plain": [
       "8"
      ]
     },
     "execution_count": 57,
     "metadata": {},
     "output_type": "execute_result"
    }
   ],
   "source": [
    "s2.count('e')"
   ]
  },
  {
   "cell_type": "code",
   "execution_count": 58,
   "id": "78d9d970-8219-4283-bf0c-956c7cef49ae",
   "metadata": {},
   "outputs": [
    {
     "data": {
      "text/plain": [
       "6"
      ]
     },
     "execution_count": 58,
     "metadata": {},
     "output_type": "execute_result"
    }
   ],
   "source": [
    "# search, start from\n",
    "s2.count('e', 5)"
   ]
  },
  {
   "cell_type": "code",
   "execution_count": 59,
   "id": "fe3c57f7-3274-4876-97e2-7e14ee5b6113",
   "metadata": {},
   "outputs": [
    {
     "data": {
      "text/plain": [
       "2"
      ]
     },
     "execution_count": 59,
     "metadata": {},
     "output_type": "execute_result"
    }
   ],
   "source": [
    "# search, start-inclusive, end-exclusive\n",
    "s2.count('e', 5, 8)"
   ]
  },
  {
   "cell_type": "code",
   "execution_count": 60,
   "id": "3f19afab-9483-4a2d-8be9-943d5544def7",
   "metadata": {},
   "outputs": [
    {
     "data": {
      "text/plain": [
       "\u001b[0;31mDocstring:\u001b[0m\n",
       "S.count(sub[, start[, end]]) -> int\n",
       "\n",
       "Return the number of non-overlapping occurrences of substring sub in\n",
       "string S[start:end].  Optional arguments start and end are\n",
       "interpreted as in slice notation.\n",
       "\u001b[0;31mType:\u001b[0m      builtin_function_or_method\n"
      ]
     },
     "metadata": {},
     "output_type": "display_data"
    }
   ],
   "source": [
    "s2.count?"
   ]
  },
  {
   "cell_type": "code",
   "execution_count": 61,
   "id": "dd2884bf-110d-4836-a78c-fdc33a86380d",
   "metadata": {},
   "outputs": [
    {
     "data": {
      "text/plain": [
       "2"
      ]
     },
     "execution_count": 61,
     "metadata": {},
     "output_type": "execute_result"
    }
   ],
   "source": [
    "# get the index of the first occurance\n",
    "s2.index('e')"
   ]
  },
  {
   "cell_type": "code",
   "execution_count": 62,
   "id": "264af21d-5f78-4e22-a97c-78bf087fe027",
   "metadata": {},
   "outputs": [
    {
     "data": {
      "text/plain": [
       "4"
      ]
     },
     "execution_count": 62,
     "metadata": {},
     "output_type": "execute_result"
    }
   ],
   "source": [
    "# same but start from index\n",
    "s2.index('e', 3)"
   ]
  },
  {
   "cell_type": "code",
   "execution_count": 63,
   "id": "0b898747-75b4-4e58-9777-2d19d4f4106b",
   "metadata": {},
   "outputs": [
    {
     "data": {
      "text/plain": [
       "4"
      ]
     },
     "execution_count": 63,
     "metadata": {},
     "output_type": "execute_result"
    }
   ],
   "source": [
    "# search, start-inclusive, end-exclusive\n",
    "s2.index('e', 3, 7)"
   ]
  },
  {
   "cell_type": "code",
   "execution_count": 64,
   "id": "37fd38ba-ae3a-4d65-a2c6-bd31ed41daa4",
   "metadata": {},
   "outputs": [],
   "source": [
    "# by default, a ValueError is thrown if the value is not found\n",
    "# s2.index('#')"
   ]
  },
  {
   "cell_type": "code",
   "execution_count": 65,
   "id": "365f2476-d84f-42cc-8ac4-57bf74093aa6",
   "metadata": {},
   "outputs": [
    {
     "data": {
      "text/plain": [
       "-1"
      ]
     },
     "execution_count": 65,
     "metadata": {},
     "output_type": "execute_result"
    }
   ],
   "source": [
    "# if you don't want an error, find will return -1 for not found - this is only for strings\n",
    "s2.find('#')"
   ]
  },
  {
   "cell_type": "code",
   "execution_count": null,
   "id": "020044d4-887b-47a1-bb4a-872fc372778e",
   "metadata": {},
   "outputs": [],
   "source": []
  }
 ],
 "metadata": {
  "kernelspec": {
   "display_name": "Python 3.9",
   "language": "python",
   "name": "python39"
  },
  "language_info": {
   "codemirror_mode": {
    "name": "ipython",
    "version": 3
   },
   "file_extension": ".py",
   "mimetype": "text/x-python",
   "name": "python",
   "nbconvert_exporter": "python",
   "pygments_lexer": "ipython3",
   "version": "3.9.7"
  }
 },
 "nbformat": 4,
 "nbformat_minor": 5
}
