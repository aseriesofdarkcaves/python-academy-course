{
 "cells": [
  {
   "cell_type": "markdown",
   "id": "62abbc57-15fb-43bf-8bc9-11cbb8dfc8b5",
   "metadata": {},
   "source": [
    "# Lists"
   ]
  },
  {
   "cell_type": "code",
   "execution_count": 1,
   "id": "42fe0b23-f8bc-46b5-8fb9-87679b408d02",
   "metadata": {},
   "outputs": [
    {
     "data": {
      "text/plain": [
       "[2, 3, 4, 5, 6, 7, 8, 9, 10]"
      ]
     },
     "execution_count": 1,
     "metadata": {},
     "output_type": "execute_result"
    }
   ],
   "source": [
    "# create a list populated with a range\n",
    "my_list = list(range(2, 11))\n",
    "my_list"
   ]
  },
  {
   "cell_type": "code",
   "execution_count": 2,
   "id": "3a23b02e-cf3c-4b2f-b03d-2c20f1017d9c",
   "metadata": {},
   "outputs": [
    {
     "data": {
      "text/plain": [
       "5"
      ]
     },
     "execution_count": 2,
     "metadata": {},
     "output_type": "execute_result"
    }
   ],
   "source": [
    "# reference an index\n",
    "my_list[3]"
   ]
  },
  {
   "cell_type": "code",
   "execution_count": 3,
   "id": "b5102fa2-827d-44ca-80ba-af86fefe05ac",
   "metadata": {},
   "outputs": [
    {
     "data": {
      "text/plain": [
       "[2, 3, 4, 45, 6, 7, 8, 9, 10]"
      ]
     },
     "execution_count": 3,
     "metadata": {},
     "output_type": "execute_result"
    }
   ],
   "source": [
    "# update an item\n",
    "my_list[3] = 45\n",
    "my_list"
   ]
  },
  {
   "cell_type": "code",
   "execution_count": 4,
   "id": "38306fc9-60b7-4300-afd1-d313a1b09b98",
   "metadata": {},
   "outputs": [
    {
     "data": {
      "text/plain": [
       "[2, 3, 100, 200, 300, 400, 500, 6, 7, 8, 9, 10]"
      ]
     },
     "execution_count": 4,
     "metadata": {},
     "output_type": "execute_result"
    }
   ],
   "source": [
    "my_list[2:4] = [100, 200, 300, 400, 500]\n",
    "my_list"
   ]
  },
  {
   "cell_type": "code",
   "execution_count": 5,
   "id": "28fb1a0c-15a2-45bf-aeaf-e8239c2f931f",
   "metadata": {},
   "outputs": [
    {
     "data": {
      "text/plain": [
       "[2, 3, 100, 200, 300, 400, 987, 500, 6, 7, 8, 9, 10]"
      ]
     },
     "execution_count": 5,
     "metadata": {},
     "output_type": "execute_result"
    }
   ],
   "source": [
    "my_list.insert(6, 987)\n",
    "my_list"
   ]
  },
  {
   "cell_type": "code",
   "execution_count": 6,
   "id": "7efe214b-4077-4c38-a2ce-9215ea768a4f",
   "metadata": {},
   "outputs": [
    {
     "data": {
      "text/plain": [
       "2532"
      ]
     },
     "execution_count": 6,
     "metadata": {},
     "output_type": "execute_result"
    }
   ],
   "source": [
    "sum(my_list)"
   ]
  },
  {
   "cell_type": "code",
   "execution_count": 7,
   "id": "a265be41-2594-420d-8074-9aa3bb0ca25d",
   "metadata": {},
   "outputs": [
    {
     "data": {
      "text/plain": [
       "[2, 3, 100, 200, 300, 400, 500, 6, 7, 8, 9, 10]"
      ]
     },
     "execution_count": 7,
     "metadata": {},
     "output_type": "execute_result"
    }
   ],
   "source": [
    "# del is a keyword to free up memory\n",
    "del my_list[6]\n",
    "my_list"
   ]
  },
  {
   "cell_type": "code",
   "execution_count": 8,
   "id": "d4d33418-23d2-4b7b-91ba-029e1f481f92",
   "metadata": {},
   "outputs": [
    {
     "data": {
      "text/plain": [
       "[2, 100, 300, 500, 7, 9]"
      ]
     },
     "execution_count": 8,
     "metadata": {},
     "output_type": "execute_result"
    }
   ],
   "source": [
    "my_list[::2]"
   ]
  },
  {
   "cell_type": "code",
   "execution_count": 9,
   "id": "39622d57-808f-431c-8dab-4bb7c258df71",
   "metadata": {},
   "outputs": [
    {
     "data": {
      "text/plain": [
       "[453, 3, 453, 200, 453, 400, 453, 6, 453, 8, 453, 10]"
      ]
     },
     "execution_count": 9,
     "metadata": {},
     "output_type": "execute_result"
    }
   ],
   "source": [
    "my_list[::2] = len(my_list[::2]) * [453]\n",
    "my_list"
   ]
  },
  {
   "cell_type": "code",
   "execution_count": 10,
   "id": "dbb9ba0a-7174-47cb-a279-83c79335acd8",
   "metadata": {},
   "outputs": [
    {
     "data": {
      "text/plain": [
       "[453, 3, 453, 200, 453, 400, 453, 6, 453, 8, 453, 10, 123]"
      ]
     },
     "execution_count": 10,
     "metadata": {},
     "output_type": "execute_result"
    }
   ],
   "source": [
    "my_list.append(123)\n",
    "my_list"
   ]
  },
  {
   "cell_type": "code",
   "execution_count": 11,
   "id": "2ddd80a7-9349-45df-a4a0-e9fa5901a7bd",
   "metadata": {},
   "outputs": [
    {
     "data": {
      "text/plain": [
       "[453, 3, 453, 200, 453, 400, 453, 6, 453, 8, 453, 10, 123, [1, 2, 3]]"
      ]
     },
     "execution_count": 11,
     "metadata": {},
     "output_type": "execute_result"
    }
   ],
   "source": [
    "my_list.append([1, 2, 3])\n",
    "my_list"
   ]
  },
  {
   "cell_type": "code",
   "execution_count": 12,
   "id": "a82df363-c176-488d-93fa-7756ef32086e",
   "metadata": {},
   "outputs": [
    {
     "data": {
      "text/plain": [
       "2"
      ]
     },
     "execution_count": 12,
     "metadata": {},
     "output_type": "execute_result"
    }
   ],
   "source": [
    "my_list[-1][1]"
   ]
  },
  {
   "cell_type": "code",
   "execution_count": 13,
   "id": "54c797a0-650d-4c54-86c0-3b2ddbd10012",
   "metadata": {},
   "outputs": [
    {
     "data": {
      "text/plain": [
       "[453, 3, 453, 200, 453, 400, 453, 6, 453, 8, 453, 10, 123, [1, 2, 3], 1, 2, 3]"
      ]
     },
     "execution_count": 13,
     "metadata": {},
     "output_type": "execute_result"
    }
   ],
   "source": [
    "# this might be more efficient than using append\n",
    "# because append could iterate over the object to add\n",
    "# but don't lose sleep over it\n",
    "my_list.extend([1, 2, 3])\n",
    "my_list"
   ]
  },
  {
   "cell_type": "code",
   "execution_count": 14,
   "id": "487d2098-84a4-43c3-a371-1210696cdbfd",
   "metadata": {},
   "outputs": [
    {
     "data": {
      "text/plain": [
       "\u001b[0;31mSignature:\u001b[0m \u001b[0mmy_list\u001b[0m\u001b[0;34m.\u001b[0m\u001b[0mclear\u001b[0m\u001b[0;34m(\u001b[0m\u001b[0;34m)\u001b[0m\u001b[0;34m\u001b[0m\u001b[0;34m\u001b[0m\u001b[0m\n",
       "\u001b[0;31mDocstring:\u001b[0m Remove all items from list.\n",
       "\u001b[0;31mType:\u001b[0m      builtin_function_or_method\n"
      ]
     },
     "metadata": {},
     "output_type": "display_data"
    }
   ],
   "source": [
    "# clears the list, could also del myList[:] to keep the object\n",
    "my_list.clear?"
   ]
  },
  {
   "cell_type": "code",
   "execution_count": 15,
   "id": "e1403f03-afe1-486f-bbc5-b4ce29a2ebd7",
   "metadata": {},
   "outputs": [
    {
     "data": {
      "text/plain": [
       "[453, 3, 453, 200, 453, 400, 453, 6, 453, 8, 453, 10, 123, [1, 2, 3], 1, 2, 3]"
      ]
     },
     "execution_count": 15,
     "metadata": {},
     "output_type": "execute_result"
    }
   ],
   "source": [
    "my_list"
   ]
  },
  {
   "cell_type": "code",
   "execution_count": 16,
   "id": "b3e8e568-f9fa-4998-bb0c-8319bfb7cb0c",
   "metadata": {},
   "outputs": [
    {
     "data": {
      "text/plain": [
       "3"
      ]
     },
     "execution_count": 16,
     "metadata": {},
     "output_type": "execute_result"
    }
   ],
   "source": [
    "my_list.pop()"
   ]
  },
  {
   "cell_type": "code",
   "execution_count": 17,
   "id": "e526852a-f6a3-4c12-b6ad-dcdf29ff1f6c",
   "metadata": {},
   "outputs": [
    {
     "data": {
      "text/plain": [
       "[453, 3, 453, 200, 453, 400, 453, 6, 453, 8, 453, 10, 123, [1, 2, 3], 1, 2]"
      ]
     },
     "execution_count": 17,
     "metadata": {},
     "output_type": "execute_result"
    }
   ],
   "source": [
    "my_list"
   ]
  },
  {
   "cell_type": "code",
   "execution_count": 18,
   "id": "ba864023-fbf0-40f4-acfc-55c6d253370b",
   "metadata": {},
   "outputs": [
    {
     "data": {
      "text/plain": [
       "453"
      ]
     },
     "execution_count": 18,
     "metadata": {},
     "output_type": "execute_result"
    }
   ],
   "source": [
    "# the parameter is the index\n",
    "my_list.pop(2)"
   ]
  },
  {
   "cell_type": "code",
   "execution_count": 19,
   "id": "fe3caaeb-eb1b-4b7b-8b3e-bf72693aeeb0",
   "metadata": {},
   "outputs": [
    {
     "data": {
      "text/plain": [
       "[453, 3, 200, 453, 400, 453, 6, 453, 8, 453, 10, 123, [1, 2, 3], 1, 2]"
      ]
     },
     "execution_count": 19,
     "metadata": {},
     "output_type": "execute_result"
    }
   ],
   "source": [
    "my_list"
   ]
  },
  {
   "cell_type": "code",
   "execution_count": 20,
   "id": "263b83f4-6baf-4d75-aafc-71e973929a2f",
   "metadata": {},
   "outputs": [],
   "source": [
    "# remove removes based on value - and only if they exist, this will fail!\n",
    "# my_list.remove(123456)"
   ]
  },
  {
   "cell_type": "code",
   "execution_count": 21,
   "id": "599a7739-8b0d-488b-8f14-50219afc0952",
   "metadata": {},
   "outputs": [
    {
     "data": {
      "text/plain": [
       "[2, 1, [1, 2, 3], 123, 10, 453, 8, 453, 6, 453, 400, 453, 200, 3, 453]"
      ]
     },
     "execution_count": 21,
     "metadata": {},
     "output_type": "execute_result"
    }
   ],
   "source": [
    "# use an iterator object to reverse the list\n",
    "list(reversed(my_list))"
   ]
  },
  {
   "cell_type": "code",
   "execution_count": 22,
   "id": "e830a8d4-8f95-4db6-a687-bcd4d8d245fd",
   "metadata": {},
   "outputs": [
    {
     "data": {
      "text/plain": [
       "[453, 3, 200, 453, 400, 453, 6, 453, 8, 453, 10, 123, [1, 2, 3], 1, 2]"
      ]
     },
     "execution_count": 22,
     "metadata": {},
     "output_type": "execute_result"
    }
   ],
   "source": [
    "my_list"
   ]
  },
  {
   "cell_type": "code",
   "execution_count": 23,
   "id": "5b323776-4ec7-419c-bf38-bbad345326e9",
   "metadata": {},
   "outputs": [
    {
     "data": {
      "text/plain": [
       "[2, 1, [1, 2, 3], 123, 10, 453, 8, 453, 6, 453, 400, 453, 200, 3, 453]"
      ]
     },
     "execution_count": 23,
     "metadata": {},
     "output_type": "execute_result"
    }
   ],
   "source": [
    "# mutates the list, returns value is None\n",
    "my_list.reverse()\n",
    "my_list"
   ]
  },
  {
   "cell_type": "code",
   "execution_count": 24,
   "id": "f7f28cc0-01ef-4c79-ad8b-f44922f213b5",
   "metadata": {},
   "outputs": [],
   "source": [
    "# remove the list in the list because it can't be sorted with the other elements\n",
    "del my_list[2]"
   ]
  },
  {
   "cell_type": "code",
   "execution_count": 25,
   "id": "5e354721-bb60-473a-b133-71d6b88551f7",
   "metadata": {},
   "outputs": [
    {
     "data": {
      "text/plain": [
       "[1, 2, 3, 6, 8, 10, 123, 200, 400, 453, 453, 453, 453, 453]"
      ]
     },
     "execution_count": 25,
     "metadata": {},
     "output_type": "execute_result"
    }
   ],
   "source": [
    "# doesn't change the list object\n",
    "sorted(my_list)"
   ]
  },
  {
   "cell_type": "code",
   "execution_count": 26,
   "id": "eec8f355-1032-4e67-8773-583d172ba384",
   "metadata": {},
   "outputs": [
    {
     "data": {
      "text/plain": [
       "[2, 1, 123, 10, 453, 8, 453, 6, 453, 400, 453, 200, 3, 453]"
      ]
     },
     "execution_count": 26,
     "metadata": {},
     "output_type": "execute_result"
    }
   ],
   "source": [
    "my_list"
   ]
  },
  {
   "cell_type": "code",
   "execution_count": 27,
   "id": "2a8029bf-3007-439f-85ca-ec73ca7ba7dd",
   "metadata": {},
   "outputs": [
    {
     "data": {
      "text/plain": [
       "[1, 2, 3, 6, 8, 10, 123, 200, 400, 453, 453, 453, 453, 453]"
      ]
     },
     "execution_count": 27,
     "metadata": {},
     "output_type": "execute_result"
    }
   ],
   "source": [
    "# mutates the list, return value is None\n",
    "my_list.sort()\n",
    "my_list"
   ]
  },
  {
   "cell_type": "code",
   "execution_count": 28,
   "id": "a1638a10-89f0-4939-bd6b-e8f6ecaef650",
   "metadata": {},
   "outputs": [
    {
     "data": {
      "text/plain": [
       "[('a', 'x'), ('b', 'y'), ('c', 'z')]"
      ]
     },
     "execution_count": 28,
     "metadata": {},
     "output_type": "execute_result"
    }
   ],
   "source": [
    "# built-in zip function\n",
    "list(zip('abc', 'xyz'))"
   ]
  },
  {
   "cell_type": "code",
   "execution_count": 29,
   "id": "cf877ffb-02d8-4e42-ac29-cf0ca2d4453a",
   "metadata": {},
   "outputs": [
    {
     "data": {
      "text/plain": [
       "[('a', 'x', '1'), ('b', 'y', '2'), ('c', 'z', '3')]"
      ]
     },
     "execution_count": 29,
     "metadata": {},
     "output_type": "execute_result"
    }
   ],
   "source": [
    "list(zip('abc', 'xyz', '123'))"
   ]
  },
  {
   "cell_type": "code",
   "execution_count": 30,
   "id": "55952ae6-6277-4983-9a92-050c3664fa20",
   "metadata": {},
   "outputs": [
    {
     "name": "stdout",
     "output_type": "stream",
     "text": [
      "a x\n",
      "b y\n",
      "c z\n"
     ]
    }
   ],
   "source": [
    "# can be used with loops - note the use of temp vars with arbitrary names\n",
    "for x1, x2 in zip('abc', 'xyz'):\n",
    "    print(x1, x2)"
   ]
  },
  {
   "cell_type": "code",
   "execution_count": 31,
   "id": "40acb4dd-8bf0-4e6a-8b63-710d5b1482ec",
   "metadata": {},
   "outputs": [
    {
     "name": "stdout",
     "output_type": "stream",
     "text": [
      "0 a\n",
      "1 b\n",
      "2 c\n"
     ]
    }
   ],
   "source": [
    "# enumerate\n",
    "for index, value in enumerate('abc'):\n",
    "    print(index, value)"
   ]
  },
  {
   "cell_type": "code",
   "execution_count": 32,
   "id": "b85beea7-eb01-4fc9-aaca-6f4ee6e78b8f",
   "metadata": {},
   "outputs": [
    {
     "name": "stdout",
     "output_type": "stream",
     "text": [
      "7 a\n",
      "8 b\n",
      "9 c\n"
     ]
    }
   ],
   "source": [
    "for index, value in zip(range(7, 20), 'abc'):\n",
    "    print(index, value)"
   ]
  },
  {
   "cell_type": "markdown",
   "id": "bcbded36-e966-47f9-90ba-95b786127937",
   "metadata": {},
   "source": [
    "## List Comprehensions"
   ]
  },
  {
   "cell_type": "code",
   "execution_count": 33,
   "id": "df072096-1625-4b7e-903b-53d1d50a4d34",
   "metadata": {},
   "outputs": [
    {
     "data": {
      "text/plain": [
       "[2, 3, 4, 5, 6, 7, 8, 9, 10]"
      ]
     },
     "execution_count": 33,
     "metadata": {},
     "output_type": "execute_result"
    }
   ],
   "source": [
    "my_list = list(range(2, 11))\n",
    "my_list"
   ]
  },
  {
   "cell_type": "code",
   "execution_count": 40,
   "id": "c7229517-4e17-453a-8963-ed52fd766567",
   "metadata": {},
   "outputs": [
    {
     "data": {
      "text/plain": [
       "[14, 21, 28, 35, 42, 49, 56, 63, 70]"
      ]
     },
     "execution_count": 40,
     "metadata": {},
     "output_type": "execute_result"
    }
   ],
   "source": [
    "# takes the original list and multiplies each element by 7 over the list\n",
    "result1 = [x * 7 for x in my_list]\n",
    "result1"
   ]
  },
  {
   "cell_type": "code",
   "execution_count": 41,
   "id": "1fcc3b69-52a8-47f7-a4cd-d938b948298b",
   "metadata": {},
   "outputs": [
    {
     "data": {
      "text/plain": [
       "[14, 21, 28, 35, 42, 49, 56, 63, 70]"
      ]
     },
     "execution_count": 41,
     "metadata": {},
     "output_type": "execute_result"
    }
   ],
   "source": [
    "# this does the exact same as above\n",
    "result2 = []\n",
    "for x in my_list:\n",
    "    result2.append(x * 7)\n",
    "result2"
   ]
  },
  {
   "cell_type": "code",
   "execution_count": 44,
   "id": "56191e7a-8d34-49a5-9dfa-3ef1327c0185",
   "metadata": {},
   "outputs": [
    {
     "data": {
      "text/plain": [
       "True"
      ]
     },
     "execution_count": 44,
     "metadata": {},
     "output_type": "execute_result"
    }
   ],
   "source": [
    "# value check - are the values in each object the same?\n",
    "result1 == result2"
   ]
  },
  {
   "cell_type": "code",
   "execution_count": 45,
   "id": "1c730604-0b0a-408f-b140-1b2b34373f66",
   "metadata": {},
   "outputs": [
    {
     "data": {
      "text/plain": [
       "False"
      ]
     },
     "execution_count": 45,
     "metadata": {},
     "output_type": "execute_result"
    }
   ],
   "source": [
    "# reference check - are the variables pointing to the same object?\n",
    "result1 is result2"
   ]
  },
  {
   "cell_type": "code",
   "execution_count": 46,
   "id": "71ec3d89-b440-4eae-8eaa-8b2fca2d5d8b",
   "metadata": {},
   "outputs": [
    {
     "data": {
      "text/plain": [
       "[35, 42, 49, 56, 63, 70]"
      ]
     },
     "execution_count": 46,
     "metadata": {},
     "output_type": "execute_result"
    }
   ],
   "source": [
    "# you can also add filters\n",
    "[x * 7 for x in my_list if x > 4]"
   ]
  },
  {
   "cell_type": "code",
   "execution_count": 51,
   "id": "d17be48d-0440-4d8c-ae31-2c8d6ebf469f",
   "metadata": {},
   "outputs": [
    {
     "data": {
      "text/plain": [
       "[1, 2, 3]"
      ]
     },
     "execution_count": 51,
     "metadata": {},
     "output_type": "execute_result"
    }
   ],
   "source": [
    "# you can use any expression\n",
    "list3 = [1, 2, 3, [1, 2, 3]]\n",
    "[x for x in list3 if isinstance(x, int)]"
   ]
  },
  {
   "cell_type": "code",
   "execution_count": 55,
   "id": "ecd94f9e-7729-4648-9e78-d96d6c9305eb",
   "metadata": {},
   "outputs": [
    {
     "name": "stdout",
     "output_type": "stream",
     "text": [
      "['h', 'u', 'm', 'a', 'n']\n"
     ]
    }
   ],
   "source": [
    "# it even works in-line\n",
    "letters_inline = [letter for letter in 'human']\n",
    "print(letters_inline)"
   ]
  },
  {
   "cell_type": "code",
   "execution_count": 54,
   "id": "704934c5-b516-413c-8e9b-fddc1c24b79a",
   "metadata": {},
   "outputs": [
    {
     "name": "stdout",
     "output_type": "stream",
     "text": [
      "['h', 'u', 'm', 'a', 'n']\n"
     ]
    }
   ],
   "source": [
    "# can also do this as a lambda, but it's not nice to read IMO\n",
    "letters_lambda = list(map(lambda x: x, 'human'))\n",
    "print(letters_lambda)"
   ]
  },
  {
   "cell_type": "code",
   "execution_count": null,
   "id": "61edad60-d956-4472-b23d-6870b8745f05",
   "metadata": {},
   "outputs": [],
   "source": []
  }
 ],
 "metadata": {
  "kernelspec": {
   "display_name": "Python 3.9",
   "language": "python",
   "name": "python39"
  },
  "language_info": {
   "codemirror_mode": {
    "name": "ipython",
    "version": 3
   },
   "file_extension": ".py",
   "mimetype": "text/x-python",
   "name": "python",
   "nbconvert_exporter": "python",
   "pygments_lexer": "ipython3",
   "version": "3.9.7"
  }
 },
 "nbformat": 4,
 "nbformat_minor": 5
}
