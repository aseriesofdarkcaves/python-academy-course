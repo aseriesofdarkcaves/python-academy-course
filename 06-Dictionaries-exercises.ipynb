{
 "cells": [
  {
   "cell_type": "markdown",
   "id": "d58a2958-ab78-475f-9062-ab7af685000c",
   "metadata": {},
   "source": [
    "# Dictionary exercises"
   ]
  },
  {
   "cell_type": "markdown",
   "id": "7039b2d0-b326-4242-858b-d1eaeb880f4f",
   "metadata": {
    "tags": []
   },
   "source": [
    "## Übung 1"
   ]
  },
  {
   "cell_type": "code",
   "execution_count": 46,
   "id": "115649df-f670-4edf-98d8-9620e54682ad",
   "metadata": {},
   "outputs": [],
   "source": [
    "buch = {'Maik': '011234', 'Thomas': '2361', 'Dave': '1234'}"
   ]
  },
  {
   "cell_type": "code",
   "execution_count": 22,
   "id": "dadbc342-f15d-472c-b66a-841a21875879",
   "metadata": {},
   "outputs": [
    {
     "data": {
      "text/plain": [
       "'2361'"
      ]
     },
     "execution_count": 22,
     "metadata": {},
     "output_type": "execute_result"
    }
   ],
   "source": [
    "buch['Thomas']"
   ]
  },
  {
   "cell_type": "code",
   "execution_count": 26,
   "id": "64788bd7-2a3f-480e-99f7-a983e6daa3e8",
   "metadata": {},
   "outputs": [
    {
     "data": {
      "text/plain": [
       "False"
      ]
     },
     "execution_count": 26,
     "metadata": {},
     "output_type": "execute_result"
    }
   ],
   "source": [
    "'Paul' in buch"
   ]
  },
  {
   "cell_type": "code",
   "execution_count": 27,
   "id": "901d306f-d938-441d-aa31-876f0ab4ed1d",
   "metadata": {},
   "outputs": [
    {
     "data": {
      "text/plain": [
       "True"
      ]
     },
     "execution_count": 27,
     "metadata": {},
     "output_type": "execute_result"
    }
   ],
   "source": [
    "'Dave' in buch"
   ]
  },
  {
   "cell_type": "code",
   "execution_count": 28,
   "id": "12a01b23-f634-4e3f-97f8-74f4ef418fdc",
   "metadata": {},
   "outputs": [
    {
     "data": {
      "text/plain": [
       "dict_values(['011234', '2361', '1234'])"
      ]
     },
     "execution_count": 28,
     "metadata": {},
     "output_type": "execute_result"
    }
   ],
   "source": [
    "buch.values()"
   ]
  },
  {
   "cell_type": "code",
   "execution_count": 32,
   "id": "c99dc5f5-f53a-49a6-8a29-b7d46eb0ea67",
   "metadata": {},
   "outputs": [
    {
     "data": {
      "text/plain": [
       "dict_keys(['Maik', 'Thomas', 'Dave'])"
      ]
     },
     "execution_count": 32,
     "metadata": {},
     "output_type": "execute_result"
    }
   ],
   "source": [
    "buch.keys()"
   ]
  },
  {
   "cell_type": "markdown",
   "id": "10051f70-2016-451d-9934-9df77267b885",
   "metadata": {},
   "source": [
    "## Übung 2"
   ]
  },
  {
   "cell_type": "code",
   "execution_count": 33,
   "id": "56c6dca2-4c99-49ec-bd98-b7bc3e832583",
   "metadata": {},
   "outputs": [
    {
     "name": "stdout",
     "output_type": "stream",
     "text": [
      "None\n"
     ]
    }
   ],
   "source": [
    "print(buch.get('Paul'))"
   ]
  },
  {
   "cell_type": "code",
   "execution_count": 34,
   "id": "499a56a2-2c0c-47f5-a61c-91a919877dac",
   "metadata": {},
   "outputs": [
    {
     "name": "stdout",
     "output_type": "stream",
     "text": [
      "0\n"
     ]
    }
   ],
   "source": [
    "print(buch.get('Paul', 0))"
   ]
  },
  {
   "cell_type": "code",
   "execution_count": 35,
   "id": "9086136d-1cc0-4e3c-913e-b1a88c5b30d9",
   "metadata": {},
   "outputs": [
    {
     "name": "stdout",
     "output_type": "stream",
     "text": [
      "112\n"
     ]
    }
   ],
   "source": [
    "print(buch.setdefault('Paul', '112'))"
   ]
  },
  {
   "cell_type": "code",
   "execution_count": 38,
   "id": "75365885-a606-4e61-8298-782bcb00a8f8",
   "metadata": {},
   "outputs": [
    {
     "data": {
      "text/plain": [
       "{'Maik': '011234',\n",
       " 'Thomas': '2361',\n",
       " 'Dave': '1234',\n",
       " 'Paul': '112',\n",
       " 'Peter': None}"
      ]
     },
     "execution_count": 38,
     "metadata": {},
     "output_type": "execute_result"
    }
   ],
   "source": [
    "buch"
   ]
  },
  {
   "cell_type": "code",
   "execution_count": 37,
   "id": "222a9fe2-2f0e-4b71-93ec-9f49201f3a40",
   "metadata": {},
   "outputs": [
    {
     "name": "stdout",
     "output_type": "stream",
     "text": [
      "None\n"
     ]
    }
   ],
   "source": [
    "print(buch.setdefault('Peter', None))"
   ]
  },
  {
   "cell_type": "markdown",
   "id": "f3666c0a-6d26-4423-9ad1-3ffd4c332873",
   "metadata": {},
   "source": [
    "## Übung 3"
   ]
  },
  {
   "cell_type": "code",
   "execution_count": 43,
   "id": "8227e867-12b3-4468-82c2-fb92b6b79111",
   "metadata": {},
   "outputs": [],
   "source": [
    "buch2 = {'Peter': '999', 'Maik': '2832', 'Dora': '1234'}"
   ]
  },
  {
   "cell_type": "code",
   "execution_count": 44,
   "id": "e1faf5df-d44f-4cf0-91b9-1febded2cf39",
   "metadata": {},
   "outputs": [],
   "source": [
    "buch.update(buch2)"
   ]
  },
  {
   "cell_type": "code",
   "execution_count": 45,
   "id": "a72fc0fa-f938-4efd-8b2e-e0e5d4727da4",
   "metadata": {},
   "outputs": [
    {
     "data": {
      "text/plain": [
       "{'Maik': '2832',\n",
       " 'Thomas': '2361',\n",
       " 'Dave': '1234',\n",
       " 'Paul': '112',\n",
       " 'Peter': '999',\n",
       " 'Dora': '1234'}"
      ]
     },
     "execution_count": 45,
     "metadata": {},
     "output_type": "execute_result"
    }
   ],
   "source": [
    "buch"
   ]
  },
  {
   "cell_type": "code",
   "execution_count": 51,
   "id": "d0938418-fab9-4b7e-ac66-35a162a6d149",
   "metadata": {},
   "outputs": [
    {
     "name": "stdout",
     "output_type": "stream",
     "text": [
      "892 ns ± 29.1 ns per loop (mean ± std. dev. of 7 runs, 1000000 loops each)\n"
     ]
    }
   ],
   "source": [
    "def testa():\n",
    "    buch = {'Maik': '011234', 'Thomas': '2361', 'Dave': '1234'}\n",
    "    buch2 = {'Peter': '999', 'Maik': '2832', 'Dora': '1234'}\n",
    "    for name, phone in buch2.items():\n",
    "        buch[name] = phone\n",
    "    buch\n",
    "    \n",
    "%timeit testa()"
   ]
  },
  {
   "cell_type": "code",
   "execution_count": 53,
   "id": "4d9f827a-3822-4d4d-978a-4c53334b1584",
   "metadata": {},
   "outputs": [
    {
     "name": "stdout",
     "output_type": "stream",
     "text": [
      "788 ns ± 20.1 ns per loop (mean ± std. dev. of 7 runs, 1000000 loops each)\n"
     ]
    }
   ],
   "source": [
    "def testb():\n",
    "    buch = {'Maik': '011234', 'Thomas': '2361', 'Dave': '1234'}\n",
    "    buch2 = {'Peter': '999', 'Maik': '2832', 'Dora': '1234'}\n",
    "    for name in buch2:\n",
    "        buch[name] = buch2[name]\n",
    "    buch\n",
    "    \n",
    "%timeit testb()"
   ]
  },
  {
   "cell_type": "markdown",
   "id": "79fcd68a-f255-4454-ba13-622ce5dc4182",
   "metadata": {},
   "source": [
    "## Übung 4"
   ]
  },
  {
   "cell_type": "code",
   "execution_count": 55,
   "id": "7cb0d3ce-7683-4fbe-8c1b-5943eb27ab05",
   "metadata": {},
   "outputs": [],
   "source": [
    "del buch['Dora']"
   ]
  },
  {
   "cell_type": "code",
   "execution_count": 56,
   "id": "af7473aa-e21d-420e-8b73-00c97c84661a",
   "metadata": {},
   "outputs": [
    {
     "data": {
      "text/plain": [
       "{'Maik': '2832', 'Thomas': '2361', 'Dave': '1234', 'Peter': '999'}"
      ]
     },
     "execution_count": 56,
     "metadata": {},
     "output_type": "execute_result"
    }
   ],
   "source": [
    "buch"
   ]
  },
  {
   "cell_type": "code",
   "execution_count": 57,
   "id": "abd2b201-8caa-45ed-aefd-0c9fa6ed24b3",
   "metadata": {},
   "outputs": [
    {
     "data": {
      "text/plain": [
       "'999'"
      ]
     },
     "execution_count": 57,
     "metadata": {},
     "output_type": "execute_result"
    }
   ],
   "source": [
    "buch.pop('Peter')"
   ]
  },
  {
   "cell_type": "code",
   "execution_count": 59,
   "id": "7de73005-edf2-48ad-8b86-808357dcd23a",
   "metadata": {},
   "outputs": [
    {
     "data": {
      "text/plain": [
       "('Dave', '1234')"
      ]
     },
     "execution_count": 59,
     "metadata": {},
     "output_type": "execute_result"
    }
   ],
   "source": [
    "buch.popitem()"
   ]
  },
  {
   "cell_type": "markdown",
   "id": "86c7f0a2-6879-41d7-915a-cff79baa8e59",
   "metadata": {},
   "source": [
    "## Übung 5"
   ]
  },
  {
   "cell_type": "code",
   "execution_count": 2,
   "id": "7a1b43c3-9d40-4cb6-b0a6-e0cf858c4a58",
   "metadata": {},
   "outputs": [
    {
     "name": "stdout",
     "output_type": "stream",
     "text": [
      "True\n",
      "True\n"
     ]
    }
   ],
   "source": [
    "# Python supports this for readability!\n",
    "length = 1_000_000\n",
    "x = int(length / 2)\n",
    "l = list(range(length))\n",
    "d = dict.fromkeys(l)\n",
    "\n",
    "print(x in l)\n",
    "print(x in d)"
   ]
  },
  {
   "cell_type": "code",
   "execution_count": 65,
   "id": "0a0cee04-a02f-4c85-8450-cc6c5dbe108d",
   "metadata": {},
   "outputs": [
    {
     "name": "stdout",
     "output_type": "stream",
     "text": [
      "7.04 ms ± 549 µs per loop (mean ± std. dev. of 7 runs, 100 loops each)\n"
     ]
    }
   ],
   "source": [
    "%timeit x in l"
   ]
  },
  {
   "cell_type": "code",
   "execution_count": 66,
   "id": "71d867af-e9e9-499c-8d76-75c86ad17c35",
   "metadata": {},
   "outputs": [
    {
     "name": "stdout",
     "output_type": "stream",
     "text": [
      "89.9 ns ± 4.29 ns per loop (mean ± std. dev. of 7 runs, 10000000 loops each)\n"
     ]
    }
   ],
   "source": [
    "%timeit x in d"
   ]
  },
  {
   "cell_type": "code",
   "execution_count": null,
   "id": "0aa80c2f-94d4-4fda-ac65-eae8dfe6eb6a",
   "metadata": {},
   "outputs": [],
   "source": []
  }
 ],
 "metadata": {
  "kernelspec": {
   "display_name": "Python 3.9",
   "language": "python",
   "name": "python39"
  },
  "language_info": {
   "codemirror_mode": {
    "name": "ipython",
    "version": 3
   },
   "file_extension": ".py",
   "mimetype": "text/x-python",
   "name": "python",
   "nbconvert_exporter": "python",
   "pygments_lexer": "ipython3",
   "version": "3.9.7"
  }
 },
 "nbformat": 4,
 "nbformat_minor": 5
}
