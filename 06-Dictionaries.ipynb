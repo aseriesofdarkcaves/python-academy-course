{
 "cells": [
  {
   "cell_type": "markdown",
   "id": "565f1c77-e6d5-4ddd-bf32-6c9b3040e97b",
   "metadata": {},
   "source": [
    "# Dictionaries\n",
    "Unsorted key-value pairs."
   ]
  },
  {
   "cell_type": "code",
   "execution_count": 1,
   "id": "13b2dcb4-9a44-4c8a-a92d-797690ed94f8",
   "metadata": {},
   "outputs": [
    {
     "data": {
      "text/plain": [
       "{'a': 100, 'b': 200, 'c': 300}"
      ]
     },
     "execution_count": 1,
     "metadata": {},
     "output_type": "execute_result"
    }
   ],
   "source": [
    "# a dict literal uses the {} characters and can't use slicing\n",
    "d = {'a': 100, 'b': 200, 'c': 300}\n",
    "d"
   ]
  },
  {
   "cell_type": "code",
   "execution_count": 2,
   "id": "37ee3955-1f1a-4c86-9807-9a587780e2e2",
   "metadata": {},
   "outputs": [
    {
     "data": {
      "text/plain": [
       "dict"
      ]
     },
     "execution_count": 2,
     "metadata": {},
     "output_type": "execute_result"
    }
   ],
   "source": [
    "type(d)"
   ]
  },
  {
   "cell_type": "code",
   "execution_count": 3,
   "id": "4bd5f69a-deb7-4e61-aa2d-a1ab03e6b5b9",
   "metadata": {},
   "outputs": [
    {
     "data": {
      "text/plain": [
       "3"
      ]
     },
     "execution_count": 3,
     "metadata": {},
     "output_type": "execute_result"
    }
   ],
   "source": [
    "# length\n",
    "len(d)"
   ]
  },
  {
   "cell_type": "code",
   "execution_count": 4,
   "id": "5e274ceb-8d32-41d5-9768-b9c23d538abf",
   "metadata": {},
   "outputs": [
    {
     "data": {
      "text/plain": [
       "100"
      ]
     },
     "execution_count": 4,
     "metadata": {},
     "output_type": "execute_result"
    }
   ],
   "source": [
    "# index reference usage via key\n",
    "d['a']"
   ]
  },
  {
   "cell_type": "code",
   "execution_count": 5,
   "id": "b0eb36b3-6012-47ad-8fd7-ed101edc1338",
   "metadata": {},
   "outputs": [
    {
     "data": {
      "text/plain": [
       "{'a': 1000, 'b': 200, 'c': 300}"
      ]
     },
     "execution_count": 5,
     "metadata": {},
     "output_type": "execute_result"
    }
   ],
   "source": [
    "# index assignment via key\n",
    "d['a'] = 1000\n",
    "d"
   ]
  },
  {
   "cell_type": "code",
   "execution_count": 6,
   "id": "c2751980-841b-4367-8d3d-58d85c33c7ba",
   "metadata": {},
   "outputs": [
    {
     "data": {
      "text/plain": [
       "{'b': 200, 'c': 300}"
      ]
     },
     "execution_count": 6,
     "metadata": {},
     "output_type": "execute_result"
    }
   ],
   "source": [
    "# delete using key - throws error if key doesn't exist\n",
    "del d['a']\n",
    "d"
   ]
  },
  {
   "cell_type": "code",
   "execution_count": 7,
   "id": "c705a39a-25b9-4a51-ac88-aa92fd31276f",
   "metadata": {},
   "outputs": [
    {
     "data": {
      "text/plain": [
       "{'b': 200, 'c': 300, 'a': 1000}"
      ]
     },
     "execution_count": 7,
     "metadata": {},
     "output_type": "execute_result"
    }
   ],
   "source": [
    "# note where new new elements go - to the end of the dict\n",
    "d['a'] = 1000\n",
    "d"
   ]
  },
  {
   "cell_type": "code",
   "execution_count": 8,
   "id": "32c96a3e-0e89-4106-8cad-e2b98b60afe3",
   "metadata": {},
   "outputs": [
    {
     "data": {
      "text/plain": [
       "True"
      ]
     },
     "execution_count": 8,
     "metadata": {},
     "output_type": "execute_result"
    }
   ],
   "source": [
    "# can check if key exists\n",
    "'a' in d"
   ]
  },
  {
   "cell_type": "code",
   "execution_count": 9,
   "id": "60d68fe8-f84c-4b93-94c6-a53ccd31f10e",
   "metadata": {},
   "outputs": [
    {
     "data": {
      "text/plain": [
       "{'b': 200, 'c': 300, 'a': 1000, 'x': 2000}"
      ]
     },
     "execution_count": 9,
     "metadata": {},
     "output_type": "execute_result"
    }
   ],
   "source": [
    "# can also insert new key-values\n",
    "d['x'] = 2000\n",
    "d"
   ]
  },
  {
   "cell_type": "code",
   "execution_count": 10,
   "id": "d74b3a2c-8ec7-4052-930d-69bc696f63e2",
   "metadata": {},
   "outputs": [
    {
     "data": {
      "text/plain": [
       "dict_keys(['b', 'c', 'a', 'x'])"
      ]
     },
     "execution_count": 10,
     "metadata": {},
     "output_type": "execute_result"
    }
   ],
   "source": [
    "# get all keys - returns a view object\n",
    "d.keys()"
   ]
  },
  {
   "cell_type": "code",
   "execution_count": 11,
   "id": "51924f9f-377b-4a45-885a-9cf9f4f5851d",
   "metadata": {},
   "outputs": [
    {
     "data": {
      "text/plain": [
       "dict_values([200, 300, 1000, 2000])"
      ]
     },
     "execution_count": 11,
     "metadata": {},
     "output_type": "execute_result"
    }
   ],
   "source": [
    "# get all values - returns a view object\n",
    "d.values()"
   ]
  },
  {
   "cell_type": "code",
   "execution_count": 12,
   "id": "8afa609b-f409-45fd-9455-dc75394f9a78",
   "metadata": {},
   "outputs": [
    {
     "data": {
      "text/plain": [
       "dict_items([('b', 200), ('c', 300), ('a', 1000), ('x', 2000)])"
      ]
     },
     "execution_count": 12,
     "metadata": {},
     "output_type": "execute_result"
    }
   ],
   "source": [
    "# gets both - returns a view object\n",
    "d.items()"
   ]
  },
  {
   "cell_type": "code",
   "execution_count": 13,
   "id": "2dc9d7c0-e4b7-4b94-9775-b610ba84a67a",
   "metadata": {},
   "outputs": [
    {
     "data": {
      "text/plain": [
       "{'b': 200, 'c': 300, 'a': 1000, 'x': 2000}"
      ]
     },
     "execution_count": 13,
     "metadata": {},
     "output_type": "execute_result"
    }
   ],
   "source": [
    "# copy a dict\n",
    "d2 = d.copy()\n",
    "d2"
   ]
  },
  {
   "cell_type": "code",
   "execution_count": 14,
   "id": "8da1607b-78eb-4712-9672-09fe26aad720",
   "metadata": {},
   "outputs": [
    {
     "data": {
      "text/plain": [
       "{'b': 200, 'c': 300, 'a': 5000, 'x': 2000, 'z': 6000}"
      ]
     },
     "execution_count": 14,
     "metadata": {},
     "output_type": "execute_result"
    }
   ],
   "source": [
    "# merge a new dict into an existing one\n",
    "# existing entries are overwritten, new ones are added\n",
    "update_dict = {'a': 5000, 'z': 6000}\n",
    "d2.update(update_dict)\n",
    "d2"
   ]
  },
  {
   "cell_type": "code",
   "execution_count": 15,
   "id": "2af389f3-fa9b-444c-bee4-0e901b63e71c",
   "metadata": {},
   "outputs": [
    {
     "data": {
      "text/plain": [
       "{'b': 200, 'c': 300, 'a': 5000, 'x': 2000, 'z': 6000}"
      ]
     },
     "execution_count": 15,
     "metadata": {},
     "output_type": "execute_result"
    }
   ],
   "source": [
    "# this does the same thing that update does\n",
    "for key, value, in update_dict.items():\n",
    "    d2[key] = value\n",
    "d2"
   ]
  },
  {
   "cell_type": "code",
   "execution_count": 16,
   "id": "b451a90f-26b2-4ed5-a378-59daae531dd7",
   "metadata": {},
   "outputs": [
    {
     "data": {
      "text/plain": [
       "{'a': None, 'b': None, 'c': None}"
      ]
     },
     "execution_count": 16,
     "metadata": {},
     "output_type": "execute_result"
    }
   ],
   "source": [
    "# create a dict from various values\n",
    "dict.fromkeys('abc')"
   ]
  },
  {
   "cell_type": "code",
   "execution_count": 17,
   "id": "b9e472a0-5da7-4035-90d2-5ee356d52441",
   "metadata": {},
   "outputs": [
    {
     "data": {
      "text/plain": [
       "{'a': 42, 'b': 42, 'c': 42}"
      ]
     },
     "execution_count": 17,
     "metadata": {},
     "output_type": "execute_result"
    }
   ],
   "source": [
    "# can't add more arguments though\n",
    "# dict.fromkeys('abc', 1, 2, 3)\n",
    "dict.fromkeys('abc', 42)"
   ]
  },
  {
   "cell_type": "code",
   "execution_count": 18,
   "id": "f5f7c905-d909-4a79-b145-ebc31462a3d6",
   "metadata": {},
   "outputs": [
    {
     "data": {
      "text/plain": [
       "{'a': [1, 2, 3], 'b': [1, 2, 3], 'c': [1, 2, 3]}"
      ]
     },
     "execution_count": 18,
     "metadata": {},
     "output_type": "execute_result"
    }
   ],
   "source": [
    "dict.fromkeys('abc', [1, 2, 3])"
   ]
  },
  {
   "cell_type": "code",
   "execution_count": 19,
   "id": "f467112f-5dd9-4836-8962-2a6387d8da90",
   "metadata": {},
   "outputs": [
    {
     "data": {
      "text/plain": [
       "{'a': (1, 2, 3), 'b': (1, 2, 3), 'c': (1, 2, 3)}"
      ]
     },
     "execution_count": 19,
     "metadata": {},
     "output_type": "execute_result"
    }
   ],
   "source": [
    "dict.fromkeys('abc', (1, 2, 3))"
   ]
  },
  {
   "cell_type": "code",
   "execution_count": 20,
   "id": "0750496a-783e-4a00-9ce7-3f96ebee8e23",
   "metadata": {},
   "outputs": [
    {
     "data": {
      "text/plain": [
       "{'a': 1, 'b': 2, 'c': 3}"
      ]
     },
     "execution_count": 20,
     "metadata": {},
     "output_type": "execute_result"
    }
   ],
   "source": [
    "# create a dict using inline key-value assignment\n",
    "dict(zip(['a', 'b', 'c'], [1, 2, 3]))"
   ]
  },
  {
   "cell_type": "code",
   "execution_count": 21,
   "id": "40787803-b1fa-4547-836e-d585473c09c8",
   "metadata": {},
   "outputs": [
    {
     "data": {
      "text/plain": [
       "{'a': 1, 'b': 2, 'c': 3}"
      ]
     },
     "execution_count": 21,
     "metadata": {},
     "output_type": "execute_result"
    }
   ],
   "source": [
    "# can use a list of tuples to define a dict\n",
    "dict([('a', 1), ('b', 2), ('c', 3)])"
   ]
  },
  {
   "cell_type": "code",
   "execution_count": 22,
   "id": "facc0679-ad6f-4610-a3ac-ab73d1a81f88",
   "metadata": {},
   "outputs": [
    {
     "data": {
      "text/plain": [
       "1000"
      ]
     },
     "execution_count": 22,
     "metadata": {},
     "output_type": "execute_result"
    }
   ],
   "source": [
    "# alternative to avoid KeyErrors being thrown\n",
    "d.get('a')"
   ]
  },
  {
   "cell_type": "code",
   "execution_count": 23,
   "id": "29088250-6f84-4148-ab83-5597c5f7f597",
   "metadata": {},
   "outputs": [
    {
     "name": "stdout",
     "output_type": "stream",
     "text": [
      "None\n"
     ]
    }
   ],
   "source": [
    "# returns None if it doesn't exist\n",
    "search_result = d.get('idontexist')\n",
    "print(search_result)"
   ]
  },
  {
   "cell_type": "code",
   "execution_count": 24,
   "id": "29390621-60e3-4504-8b36-9f76fa6e7f04",
   "metadata": {},
   "outputs": [],
   "source": [
    "# dicts need hashable keys - you can't use a list or a dict as a key\n",
    "#d[[1, 2, 3]] = 100"
   ]
  },
  {
   "cell_type": "code",
   "execution_count": 25,
   "id": "2d4a82ce-27f2-4319-b6a6-e6fc6a8fbd95",
   "metadata": {},
   "outputs": [
    {
     "data": {
      "text/plain": [
       "{'b': 200, 'c': 300, 'a': 1000, 'x': 2000, (1, 2, 3): 100}"
      ]
     },
     "execution_count": 25,
     "metadata": {},
     "output_type": "execute_result"
    }
   ],
   "source": [
    "# but tuples are hashable\n",
    "d[(1, 2, 3)] = 100\n",
    "d"
   ]
  },
  {
   "cell_type": "code",
   "execution_count": 26,
   "id": "1fedf691-def5-49b6-b86a-646acf9999fa",
   "metadata": {},
   "outputs": [
    {
     "data": {
      "text/plain": [
       "{'b': 200, 'c': 300, 'a': 1000, 'x': 2000, (1, 2, 3): 100, 'aaa': 999}"
      ]
     },
     "execution_count": 26,
     "metadata": {},
     "output_type": "execute_result"
    }
   ],
   "source": [
    "# you can set a default, which will give you a default if it doesn't exist already\n",
    "d.setdefault('aaa', 999)\n",
    "d"
   ]
  },
  {
   "cell_type": "code",
   "execution_count": 27,
   "id": "e04368f6-24c7-406b-8eef-23181a9737e5",
   "metadata": {},
   "outputs": [
    {
     "data": {
      "text/plain": [
       "200"
      ]
     },
     "execution_count": 27,
     "metadata": {},
     "output_type": "execute_result"
    }
   ],
   "source": [
    "# there's also pop, which returns and removes the key given\n",
    "d.pop('b')"
   ]
  },
  {
   "cell_type": "code",
   "execution_count": 28,
   "id": "ca2b46ef-2716-4673-86df-c4711034d3f8",
   "metadata": {},
   "outputs": [
    {
     "data": {
      "text/plain": [
       "('aaa', 999)"
      ]
     },
     "execution_count": 28,
     "metadata": {},
     "output_type": "execute_result"
    }
   ],
   "source": [
    "# popitem returns and removes the last entry\n",
    "d.popitem()"
   ]
  },
  {
   "cell_type": "code",
   "execution_count": 29,
   "id": "4600d080-13fe-45b4-adca-0db863b2593e",
   "metadata": {},
   "outputs": [
    {
     "data": {
      "text/plain": [
       "{'c': 300, 'a': 1000, 'x': 2000, (1, 2, 3): 100}"
      ]
     },
     "execution_count": 29,
     "metadata": {},
     "output_type": "execute_result"
    }
   ],
   "source": [
    "d"
   ]
  },
  {
   "cell_type": "code",
   "execution_count": null,
   "id": "fa15ba0b-bf0f-4e00-8f19-b02639df884a",
   "metadata": {},
   "outputs": [],
   "source": []
  }
 ],
 "metadata": {
  "kernelspec": {
   "display_name": "Python 3.9",
   "language": "python",
   "name": "python39"
  },
  "language_info": {
   "codemirror_mode": {
    "name": "ipython",
    "version": 3
   },
   "file_extension": ".py",
   "mimetype": "text/x-python",
   "name": "python",
   "nbconvert_exporter": "python",
   "pygments_lexer": "ipython3",
   "version": "3.9.7"
  }
 },
 "nbformat": 4,
 "nbformat_minor": 5
}
