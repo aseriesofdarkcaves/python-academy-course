{
 "cells": [
  {
   "cell_type": "markdown",
   "id": "6387f811-0994-4656-a833-9245a066ce33",
   "metadata": {},
   "source": [
    "# Sets exercises\n",
    "## Exercise 1"
   ]
  },
  {
   "cell_type": "code",
   "execution_count": 8,
   "id": "ed589d72-b57f-4dcf-8c0c-cc8d3ffce3bc",
   "metadata": {},
   "outputs": [
    {
     "name": "stdout",
     "output_type": "stream",
     "text": [
      "{'Bert', 'Alan'}\n",
      "{'Maik', 'Charles', 'Tim', 'Dave', 'Janine', 'Tom'}\n",
      "{'Dave', 'Tom', 'Charles'}\n",
      "{'Maik', 'Janine', 'Tim'}\n",
      "Union:  {'Maik', 'Tim', 'Charles', 'Alan', 'Janine', 'Bert', 'Dave', 'Tom'}\n",
      "Union:  {'Maik', 'Tim', 'Charles', 'Alan', 'Janine', 'Bert', 'Dave', 'Tom'}\n"
     ]
    }
   ],
   "source": [
    "s1 = {'Alan', 'Bert', 'Charles', 'Dave', 'Tom'}\n",
    "s2 = {'Alan', 'Bert', 'Janine', 'Maik', 'Tim'}\n",
    "\n",
    "# Schnittmenge\n",
    "print(s1 & s2)\n",
    "\n",
    "# Differenz - it's one of these...\n",
    "print(s1.symmetric_difference(s2))\n",
    "print(s1 - s2)\n",
    "print(s2 - s1)\n",
    "\n",
    "# Vereinigung\n",
    "print('Union: ', s1.union(s2))\n",
    "print('Union: ', s1 | s2)"
   ]
  },
  {
   "cell_type": "markdown",
   "id": "c7d1df71-89cc-4a04-935d-7a5a66698005",
   "metadata": {},
   "source": [
    "## Exercise 2"
   ]
  },
  {
   "cell_type": "code",
   "execution_count": 10,
   "id": "bb3e619c-3466-4e6f-84cd-c51d0a202402",
   "metadata": {},
   "outputs": [
    {
     "data": {
      "text/plain": [
       "True"
      ]
     },
     "execution_count": 10,
     "metadata": {},
     "output_type": "execute_result"
    }
   ],
   "source": [
    "other_set = {'Tom', 'Dave'}\n",
    "other_set.issubset(s1)"
   ]
  },
  {
   "cell_type": "markdown",
   "id": "b07b8c27-6839-4dcc-89ba-5ea6a71cb1c5",
   "metadata": {},
   "source": [
    "## Excercise 3"
   ]
  },
  {
   "cell_type": "code",
   "execution_count": 23,
   "id": "bc81c670-4d35-400c-b3df-2d61bd5fdd5c",
   "metadata": {},
   "outputs": [
    {
     "data": {
      "text/plain": [
       "{frozenset({'Alan', 'Bert', 'Charles', 'Dave', 'Tom'})}"
      ]
     },
     "execution_count": 23,
     "metadata": {},
     "output_type": "execute_result"
    }
   ],
   "source": [
    "set_of_names = {frozenset(s1), frozenset(s2)}\n",
    "set_of_names2 = {frozenset(s1)}\n",
    "set_of_names & set_of_names2"
   ]
  },
  {
   "cell_type": "markdown",
   "id": "8f4d2655-31a5-41f1-8fe3-2a5108a1c41b",
   "metadata": {},
   "source": [
    "## Exercise 4"
   ]
  },
  {
   "cell_type": "code",
   "execution_count": null,
   "id": "9368d7e4-4899-4a16-b635-ddd3073364c2",
   "metadata": {},
   "outputs": [],
   "source": []
  }
 ],
 "metadata": {
  "kernelspec": {
   "display_name": "Python 3.9",
   "language": "python",
   "name": "python39"
  },
  "language_info": {
   "codemirror_mode": {
    "name": "ipython",
    "version": 3
   },
   "file_extension": ".py",
   "mimetype": "text/x-python",
   "name": "python",
   "nbconvert_exporter": "python",
   "pygments_lexer": "ipython3",
   "version": "3.9.7"
  }
 },
 "nbformat": 4,
 "nbformat_minor": 5
}
