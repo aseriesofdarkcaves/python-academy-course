{
 "cells": [
  {
   "cell_type": "markdown",
   "id": "7fcd84b9-a680-4dfd-b50a-f30f62c2e052",
   "metadata": {},
   "source": [
    "# Sets\n",
    "Unordered collection of unique objects.\n",
    "\n",
    "They work like mathematical sets and can also be used as a filters.\n",
    "\n",
    "Sets themselves are mutable, but its elements cannot be mutable objects."
   ]
  },
  {
   "cell_type": "code",
   "execution_count": 2,
   "id": "54229756-4c9d-41b7-82a2-57dbcfb2831f",
   "metadata": {},
   "outputs": [
    {
     "data": {
      "text/plain": [
       "{0, 1, 2, 3, 5, 6, 7, 9}"
      ]
     },
     "execution_count": 2,
     "metadata": {},
     "output_type": "execute_result"
    }
   ],
   "source": [
    "# set literal - note that duplicates are thrown away\n",
    "s1 = {5, 2, 9, 5, 0, 1, 6, 7, 1, 1, 3, 2, 9}\n",
    "s1"
   ]
  },
  {
   "cell_type": "code",
   "execution_count": 4,
   "id": "7f55b1a8-5528-43c5-bc24-22d65a97c338",
   "metadata": {},
   "outputs": [
    {
     "data": {
      "text/plain": [
       "{1, 6, 7, 8}"
      ]
     },
     "execution_count": 4,
     "metadata": {},
     "output_type": "execute_result"
    }
   ],
   "source": [
    "# init a set using a list\n",
    "s2 = set([6, 7, 8, 1, 8])\n",
    "s2"
   ]
  },
  {
   "cell_type": "code",
   "execution_count": 5,
   "id": "78b39546-f7cd-4868-80a4-c0e14b440a95",
   "metadata": {},
   "outputs": [
    {
     "data": {
      "text/plain": [
       "{1, 6, 7}"
      ]
     },
     "execution_count": 5,
     "metadata": {},
     "output_type": "execute_result"
    }
   ],
   "source": [
    "# you can do mathematical set operations\n",
    "s1.intersection(s2)"
   ]
  },
  {
   "cell_type": "code",
   "execution_count": 6,
   "id": "037cbe6f-d857-49dc-9a0c-6d5711347d7a",
   "metadata": {},
   "outputs": [
    {
     "data": {
      "text/plain": [
       "{0, 1, 2, 3, 5, 6, 7, 8, 9}"
      ]
     },
     "execution_count": 6,
     "metadata": {},
     "output_type": "execute_result"
    }
   ],
   "source": [
    "s1.union(s2)"
   ]
  },
  {
   "cell_type": "code",
   "execution_count": 8,
   "id": "09e05a86-b94e-4333-a51e-eab80feebc14",
   "metadata": {},
   "outputs": [
    {
     "data": {
      "text/plain": [
       "{1, 6, 7}"
      ]
     },
     "execution_count": 8,
     "metadata": {},
     "output_type": "execute_result"
    }
   ],
   "source": [
    "s1 & s2"
   ]
  },
  {
   "cell_type": "code",
   "execution_count": 9,
   "id": "3282eaac-10c7-45d3-8ea4-37d58d4a00db",
   "metadata": {},
   "outputs": [
    {
     "data": {
      "text/plain": [
       "{0, 2, 3, 5, 9}"
      ]
     },
     "execution_count": 9,
     "metadata": {},
     "output_type": "execute_result"
    }
   ],
   "source": [
    "# difference\n",
    "s1 - s2"
   ]
  },
  {
   "cell_type": "code",
   "execution_count": 11,
   "id": "396cc909-dc97-433c-ba82-be5b9fbf67b9",
   "metadata": {},
   "outputs": [
    {
     "data": {
      "text/plain": [
       "True"
      ]
     },
     "execution_count": 11,
     "metadata": {},
     "output_type": "execute_result"
    }
   ],
   "source": [
    "# also works with in keyword\n",
    "3 in s1"
   ]
  },
  {
   "cell_type": "code",
   "execution_count": 19,
   "id": "dee529f3-0ea0-4449-88c7-e2d652dd914f",
   "metadata": {},
   "outputs": [
    {
     "data": {
      "text/plain": [
       "[1, 2, 3, 4, 5, 8]"
      ]
     },
     "execution_count": 19,
     "metadata": {},
     "output_type": "execute_result"
    }
   ],
   "source": [
    "# typical use-case for sets\n",
    "# want a list of unique items from the original list, L\n",
    "L = [5, 3, 4, 3, 1, 3, 4, 5, 2, 8]\n",
    "list(set(L))"
   ]
  },
  {
   "cell_type": "code",
   "execution_count": 20,
   "id": "65c3e4aa-f29a-44f6-93ec-3c0d21cb71e9",
   "metadata": {},
   "outputs": [
    {
     "data": {
      "text/plain": [
       "True"
      ]
     },
     "execution_count": 20,
     "metadata": {},
     "output_type": "execute_result"
    }
   ],
   "source": [
    "# can check subsets\n",
    "{1, 2} <= s1"
   ]
  },
  {
   "cell_type": "code",
   "execution_count": 22,
   "id": "23b5af8b-6977-4081-932a-8c1cefb05ea1",
   "metadata": {},
   "outputs": [
    {
     "data": {
      "text/plain": [
       "False"
      ]
     },
     "execution_count": 22,
     "metadata": {},
     "output_type": "execute_result"
    }
   ],
   "source": [
    "{11, 22, 77} <= s1"
   ]
  },
  {
   "cell_type": "code",
   "execution_count": 23,
   "id": "810f8e3f-53df-4dc7-bcaa-2f0694f9ae61",
   "metadata": {},
   "outputs": [
    {
     "data": {
      "text/plain": [
       "True"
      ]
     },
     "execution_count": 23,
     "metadata": {},
     "output_type": "execute_result"
    }
   ],
   "source": [
    "# superset\n",
    "s1.issuperset({1, 2})"
   ]
  },
  {
   "cell_type": "code",
   "execution_count": 24,
   "id": "c33b3127-5822-4324-8079-5cf37dcecb01",
   "metadata": {},
   "outputs": [
    {
     "data": {
      "text/plain": [
       "False"
      ]
     },
     "execution_count": 24,
     "metadata": {},
     "output_type": "execute_result"
    }
   ],
   "source": [
    "# check null intersection\n",
    "s1.isdisjoint(s2)"
   ]
  },
  {
   "cell_type": "code",
   "execution_count": 27,
   "id": "427b1b4f-578e-4f27-a5d2-dca893d64cc7",
   "metadata": {},
   "outputs": [
    {
     "data": {
      "text/plain": [
       "frozenset({0, 1, 2, 3, 5, 6, 7, 9})"
      ]
     },
     "execution_count": 27,
     "metadata": {},
     "output_type": "execute_result"
    }
   ],
   "source": [
    "# frozenset - an immutable set\n",
    "frozen = frozenset(s1)\n",
    "frozen"
   ]
  },
  {
   "cell_type": "code",
   "execution_count": 39,
   "id": "e02e304a-ce82-4c92-8848-21ed564d5717",
   "metadata": {},
   "outputs": [
    {
     "data": {
      "text/plain": [
       "{'a'}"
      ]
     },
     "execution_count": 39,
     "metadata": {},
     "output_type": "execute_result"
    }
   ],
   "source": [
    "# comparing dict keys with & operator returns a set type\n",
    "d1 = {'a': 1, 'b': 2}\n",
    "d2 = {'a': 3, 'd': 4}\n",
    "d1.keys() & d2.keys()"
   ]
  },
  {
   "cell_type": "code",
   "execution_count": null,
   "id": "d92bfb44-3fe3-447a-92ff-98c08287b80e",
   "metadata": {},
   "outputs": [],
   "source": []
  }
 ],
 "metadata": {
  "kernelspec": {
   "display_name": "Python 3.9",
   "language": "python",
   "name": "python39"
  },
  "language_info": {
   "codemirror_mode": {
    "name": "ipython",
    "version": 3
   },
   "file_extension": ".py",
   "mimetype": "text/x-python",
   "name": "python",
   "nbconvert_exporter": "python",
   "pygments_lexer": "ipython3",
   "version": "3.9.7"
  }
 },
 "nbformat": 4,
 "nbformat_minor": 5
}
