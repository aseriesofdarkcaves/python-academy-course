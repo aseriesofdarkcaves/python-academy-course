{
 "cells": [
  {
   "cell_type": "markdown",
   "id": "bd72115b-e7c8-451e-96ff-246a22fb56fe",
   "metadata": {},
   "source": [
    "# Function exercises\n",
    "## Exercise 1"
   ]
  },
  {
   "cell_type": "code",
   "execution_count": 19,
   "id": "51ca3b17-0b2e-4565-bd5c-3839f638b5b4",
   "metadata": {},
   "outputs": [
    {
     "name": "stdout",
     "output_type": "stream",
     "text": [
      "1 2 3 4 5 6 7 8 9\n"
     ]
    }
   ],
   "source": [
    "def print_numbers():\n",
    "    return range(1, 10)\n",
    "\n",
    "\n",
    "print(*print_numbers())"
   ]
  },
  {
   "cell_type": "markdown",
   "id": "38f640ce-4edb-4449-b539-c247b5c1b8f6",
   "metadata": {},
   "source": [
    "## Exercise 2"
   ]
  },
  {
   "cell_type": "code",
   "execution_count": 2,
   "id": "df4d3f2e-8780-4de0-af5c-90891b7479ba",
   "metadata": {},
   "outputs": [
    {
     "data": {
      "text/plain": [
       "4"
      ]
     },
     "execution_count": 2,
     "metadata": {},
     "output_type": "execute_result"
    }
   ],
   "source": [
    "def double(input):\n",
    "    return input * 2\n",
    "\n",
    "\n",
    "double(2)"
   ]
  },
  {
   "cell_type": "markdown",
   "id": "2a13646c-5cfa-4c4e-8817-4ee0b60c2ff7",
   "metadata": {},
   "source": [
    "## Exercise 3"
   ]
  },
  {
   "cell_type": "code",
   "execution_count": 3,
   "id": "40131689-d9ad-41a4-aa06-baf52930a1e7",
   "metadata": {},
   "outputs": [
    {
     "name": "stdout",
     "output_type": "stream",
     "text": [
      "ab\n",
      "aabb\n",
      "aabb\n"
     ]
    }
   ],
   "source": [
    "def concat(first, second):\n",
    "    return first + second\n",
    "\n",
    "\n",
    "print(concat('a', 'b'))\n",
    "print(concat(first='aa', second='bb'))\n",
    "print(concat(second='bb', first='aa'))"
   ]
  },
  {
   "cell_type": "markdown",
   "id": "33331620-b75e-48fd-804d-e3642ef531cc",
   "metadata": {},
   "source": [
    "## Exercise 4"
   ]
  },
  {
   "cell_type": "code",
   "execution_count": 4,
   "id": "18ee12e3-b4cc-482c-80c6-044f3ba03e96",
   "metadata": {},
   "outputs": [
    {
     "name": "stdout",
     "output_type": "stream",
     "text": [
      "12.5\n"
     ]
    }
   ],
   "source": [
    "def average(x, y):\n",
    "    return (x + y) / 2\n",
    "\n",
    "\n",
    "print(average(5, 20))"
   ]
  },
  {
   "cell_type": "markdown",
   "id": "c02f0773-8e9b-4dd5-b585-432ef274c63d",
   "metadata": {},
   "source": [
    "## Exercise 5"
   ]
  },
  {
   "cell_type": "code",
   "execution_count": 5,
   "id": "8efc0499-4132-4db3-bedf-8686412d90ff",
   "metadata": {},
   "outputs": [
    {
     "name": "stdout",
     "output_type": "stream",
     "text": [
      "4.5\n",
      "7.666666666666667\n"
     ]
    }
   ],
   "source": [
    "# callable with either 2 or 3 arguments\n",
    "def averages(x, y, z=None):\n",
    "    if z is None:\n",
    "        return average(x, y)\n",
    "    return (x + y + z) / 3\n",
    "\n",
    "print(averages(2, 7))\n",
    "print(averages(2, 7, 14))"
   ]
  },
  {
   "cell_type": "markdown",
   "id": "a61af218-34ff-46e4-adb2-54d271cea8e0",
   "metadata": {},
   "source": [
    "## Exercise 6"
   ]
  },
  {
   "cell_type": "code",
   "execution_count": 6,
   "id": "015f5fec-9f45-4100-9c07-dcc530d7fe49",
   "metadata": {},
   "outputs": [
    {
     "name": "stdout",
     "output_type": "stream",
     "text": [
      "1 2 3 4 5 6 7 8 9\n",
      "32.4 ns ± 1.18 ns per loop (mean ± std. dev. of 7 runs, 10000000 loops each)\n",
      "34.5 ns ± 2.8 ns per loop (mean ± std. dev. of 7 runs, 10000000 loops each)\n",
      "33.1 ns ± 2.39 ns per loop (mean ± std. dev. of 7 runs, 10000000 loops each)\n",
      "32.3 ns ± 0.771 ns per loop (mean ± std. dev. of 7 runs, 10000000 loops each)\n",
      "32.5 ns ± 0.988 ns per loop (mean ± std. dev. of 7 runs, 10000000 loops each)\n"
     ]
    }
   ],
   "source": [
    "# ONLY WORKS IN NOTEBOOK BECAUSE OF %timeit\n",
    "# function to call other functions to measure run-time of that function\n",
    "def benchmark_wrong(function):\n",
    "    %timeit function\n",
    "\n",
    "\n",
    "benchmark_wrong(print_numbers())\n",
    "benchmark_wrong(double(1000))\n",
    "benchmark_wrong(concat('aaaaaaaaaa', 'bbbbbbbbbb'))\n",
    "benchmark_wrong(average(7892, 6127))\n",
    "benchmark_wrong(averages(7892, 6127, 982))"
   ]
  },
  {
   "cell_type": "code",
   "execution_count": 8,
   "id": "c8b8bcd2-6077-47f0-a93a-ce6b3518a0c7",
   "metadata": {},
   "outputs": [
    {
     "name": "stdout",
     "output_type": "stream",
     "text": [
      "33.1 ns ± 1.1 ns per loop (mean ± std. dev. of 7 runs, 10000000 loops each)\n",
      "170 ns ± 31.2 ns per loop (mean ± std. dev. of 7 runs, 10000000 loops each)\n",
      "185 ns ± 5.61 ns per loop (mean ± std. dev. of 7 runs, 10000000 loops each)\n",
      "182 ns ± 4.24 ns per loop (mean ± std. dev. of 7 runs, 10000000 loops each)\n",
      "238 ns ± 10.1 ns per loop (mean ± std. dev. of 7 runs, 1000000 loops each)\n"
     ]
    }
   ],
   "source": [
    "# ONLY WORKS IN NOTEBOOK BECAUSE OF %timeit\n",
    "# function to call other functions to measure run-time of that function\n",
    "# *args is a tuple\n",
    "# **kwargs is a dict\n",
    "def benchmark(function, *args):\n",
    "    if len(args) == 0:\n",
    "        %timeit function\n",
    "    else:\n",
    "        %timeit function(*args)\n",
    "\n",
    "\n",
    "benchmark(print_numbers)\n",
    "benchmark(double, 1000)\n",
    "benchmark(concat, 'aaaaaaaaaa', 'bbbbbbbbbb')\n",
    "benchmark(average, 7892, 6127)\n",
    "benchmark(averages, 7892, 6127, 982)"
   ]
  },
  {
   "cell_type": "code",
   "execution_count": 21,
   "id": "685eee58-f466-48d6-832f-fa27da5c4c8c",
   "metadata": {},
   "outputs": [
    {
     "name": "stdout",
     "output_type": "stream",
     "text": [
      "1.2721866369247437e-06\n",
      "2.559274435043335e-06\n",
      "2.291053533554077e-06\n",
      "3.209337592124939e-06\n",
      "2.823770046234131e-06\n"
     ]
    }
   ],
   "source": [
    "import timeit\n",
    "\n",
    "\n",
    "def benchmark_time(function, *args):\n",
    "    if len(args) == 0:\n",
    "        start = timeit.default_timer()\n",
    "        function\n",
    "        print(timeit.default_timer() - start)\n",
    "    else:\n",
    "        start = timeit.default_timer()\n",
    "        function(*args)\n",
    "        print(timeit.default_timer() - start)\n",
    "\n",
    "\n",
    "benchmark_time(print_numbers)\n",
    "benchmark_time(double, 1000)\n",
    "benchmark_time(concat, 'aaaaaaaaaa', 'bbbbbbbbbb')\n",
    "benchmark_time(average, 7892, 6127)\n",
    "benchmark_time(averages, 7892, 6127, 982)"
   ]
  },
  {
   "cell_type": "code",
   "execution_count": 20,
   "id": "bce9a260-a24a-48eb-b356-4f73a9fb1224",
   "metadata": {},
   "outputs": [
    {
     "name": "stdout",
     "output_type": "stream",
     "text": [
      "4.814937710762024e-06\n",
      "2.2388994693756104e-06\n",
      "1.3412907719612122e-05\n",
      "2.682209014892578e-06\n",
      "2.7939677238464355e-06\n"
     ]
    }
   ],
   "source": [
    "import timeit\n",
    "\n",
    "\n",
    "def measure_func(func, *args, **kwargs):\n",
    "    start = timeit.default_timer()\n",
    "    func(*args, **kwargs)\n",
    "    print(timeit.default_timer() - start)\n",
    "\n",
    "\n",
    "measure_func(print_numbers)\n",
    "measure_func(double, 1000)\n",
    "measure_func(concat, 'aaaaaaaaaa', 'bbbbbbbbbb')\n",
    "measure_func(average, 7892, 6127)\n",
    "measure_func(averages, 7892, 6127, 982)"
   ]
  },
  {
   "cell_type": "code",
   "execution_count": null,
   "id": "db26d317-6875-4d6d-b4c8-b4efb65c3b9f",
   "metadata": {},
   "outputs": [],
   "source": []
  }
 ],
 "metadata": {
  "kernelspec": {
   "display_name": "Python 3.9",
   "language": "python",
   "name": "python39"
  },
  "language_info": {
   "codemirror_mode": {
    "name": "ipython",
    "version": 3
   },
   "file_extension": ".py",
   "mimetype": "text/x-python",
   "name": "python",
   "nbconvert_exporter": "python",
   "pygments_lexer": "ipython3",
   "version": "3.9.7"
  }
 },
 "nbformat": 4,
 "nbformat_minor": 5
}
