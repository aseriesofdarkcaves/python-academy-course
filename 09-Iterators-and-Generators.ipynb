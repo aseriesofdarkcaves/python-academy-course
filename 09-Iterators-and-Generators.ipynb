{
 "cells": [
  {
   "cell_type": "markdown",
   "id": "cd6e754d-8e30-4dfe-b37c-ea71397994f9",
   "metadata": {},
   "source": [
    "# Iterators and Generators\n",
    "Generation of sequences of objects.\n",
    "\n",
    "Iterators and generators generate sequences of objects. Unlike Lists, which store all their members in memory at the same time,\n",
    "Iterators and Generators produce only one element at a time (laziness).\n"
   ]
  },
  {
   "cell_type": "markdown",
   "id": "4590a924-e641-444a-8932-52cdf7062e65",
   "metadata": {
    "tags": []
   },
   "source": [
    "## Iterators"
   ]
  },
  {
   "cell_type": "code",
   "execution_count": 1,
   "id": "91d15196-dbb4-490d-bde5-98337372db36",
   "metadata": {},
   "outputs": [
    {
     "data": {
      "text/plain": [
       "list"
      ]
     },
     "execution_count": 1,
     "metadata": {},
     "output_type": "execute_result"
    }
   ],
   "source": [
    "# open, zip, enumerate and reversed return iterators\n",
    "L = list(range(10))\n",
    "type(L)"
   ]
  },
  {
   "cell_type": "code",
   "execution_count": 2,
   "id": "1348f61c-d024-4803-bf24-c06fed7e8280",
   "metadata": {},
   "outputs": [
    {
     "data": {
      "text/plain": [
       "list_reverseiterator"
      ]
     },
     "execution_count": 2,
     "metadata": {},
     "output_type": "execute_result"
    }
   ],
   "source": [
    "r = reversed(L)\n",
    "type(r)"
   ]
  },
  {
   "cell_type": "code",
   "execution_count": 3,
   "id": "066ca402-4342-41f3-87d6-8c8884d75d31",
   "metadata": {},
   "outputs": [
    {
     "data": {
      "text/plain": [
       "[9, 8, 7, 6, 5, 4, 3, 2, 1, 0]"
      ]
     },
     "execution_count": 3,
     "metadata": {},
     "output_type": "execute_result"
    }
   ],
   "source": [
    "# converting it to a list exhausts the iterator\n",
    "list(r)"
   ]
  },
  {
   "cell_type": "code",
   "execution_count": 4,
   "id": "b9a31304-2110-408d-a6b4-94b3257136f2",
   "metadata": {},
   "outputs": [
    {
     "data": {
      "text/plain": [
       "[]"
      ]
     },
     "execution_count": 4,
     "metadata": {},
     "output_type": "execute_result"
    }
   ],
   "source": [
    "# so running this again results in an empty list\n",
    "list(r)"
   ]
  },
  {
   "cell_type": "markdown",
   "id": "0025b1bb-6f1a-43c5-9c4c-185e9274f8d9",
   "metadata": {},
   "source": [
    "## Generators"
   ]
  },
  {
   "cell_type": "code",
   "execution_count": 5,
   "id": "9e490c89-83ae-4593-be2c-2275803d1415",
   "metadata": {},
   "outputs": [
    {
     "data": {
      "text/plain": [
       "[0, 10, 20, 30, 40, 50, 60, 70, 80, 90]"
      ]
     },
     "execution_count": 5,
     "metadata": {},
     "output_type": "execute_result"
    }
   ],
   "source": [
    "# inline generator to make a list\n",
    "[x * 10 for x in L]"
   ]
  },
  {
   "cell_type": "code",
   "execution_count": 6,
   "id": "e9e135a4-b67f-4c28-b53b-145bd71f09cc",
   "metadata": {},
   "outputs": [],
   "source": [
    "# Generator expressions look like list-comprehensions with round brackets\n",
    "# lazy variant - is only generated when you call it\n",
    "g = (x * 10 for x in L)"
   ]
  },
  {
   "cell_type": "code",
   "execution_count": 7,
   "id": "ac322a93-16f9-49a0-a4a1-32368fa54da0",
   "metadata": {},
   "outputs": [
    {
     "data": {
      "text/plain": [
       "[0, 10, 20, 30, 40, 50, 60, 70, 80, 90]"
      ]
     },
     "execution_count": 7,
     "metadata": {},
     "output_type": "execute_result"
    }
   ],
   "source": [
    "list(g)"
   ]
  },
  {
   "cell_type": "code",
   "execution_count": 8,
   "id": "d179d908-8fed-40c0-8e08-ace04c18bc2b",
   "metadata": {},
   "outputs": [
    {
     "data": {
      "text/plain": [
       "[]"
      ]
     },
     "execution_count": 8,
     "metadata": {},
     "output_type": "execute_result"
    }
   ],
   "source": [
    "# generators are also exhausted after use\n",
    "list(g)"
   ]
  },
  {
   "cell_type": "code",
   "execution_count": 9,
   "id": "f35db7f5-503b-411a-acf9-d8f66f465e6e",
   "metadata": {},
   "outputs": [
    {
     "data": {
      "text/plain": [
       "0"
      ]
     },
     "execution_count": 9,
     "metadata": {},
     "output_type": "execute_result"
    }
   ],
   "source": [
    "# reinit the generator and do step generation\n",
    "g = (x * 10 for x in L)\n",
    "next(g)"
   ]
  },
  {
   "cell_type": "code",
   "execution_count": 10,
   "id": "9dba8864-8c21-422a-9b43-410658dc2db1",
   "metadata": {},
   "outputs": [
    {
     "data": {
      "text/plain": [
       "10"
      ]
     },
     "execution_count": 10,
     "metadata": {},
     "output_type": "execute_result"
    }
   ],
   "source": [
    "# and another\n",
    "next(g)"
   ]
  },
  {
   "cell_type": "code",
   "execution_count": 11,
   "id": "30d854bf-7348-45f4-8db6-167fede7f639",
   "metadata": {},
   "outputs": [
    {
     "name": "stdout",
     "output_type": "stream",
     "text": [
      "30\n",
      "50\n",
      "70\n",
      "90\n"
     ]
    }
   ],
   "source": [
    "# can use it in a loop\n",
    "for x in g:\n",
    "    print(next(g))"
   ]
  },
  {
   "cell_type": "code",
   "execution_count": 12,
   "id": "5b8ccee4-8df2-4ab7-84b5-8a3f2bfbc117",
   "metadata": {},
   "outputs": [
    {
     "data": {
      "text/plain": [
       "[]"
      ]
     },
     "execution_count": 12,
     "metadata": {},
     "output_type": "execute_result"
    }
   ],
   "source": [
    "# again, it is exhausted after use\n",
    "list(g)"
   ]
  },
  {
   "cell_type": "markdown",
   "id": "49ca7ad9-96fb-47f5-8176-687dd3fc3635",
   "metadata": {},
   "source": [
    "### Generator functions"
   ]
  },
  {
   "cell_type": "code",
   "execution_count": 13,
   "id": "33d54c2c-8b10-41b0-a480-2a1d277f6bd5",
   "metadata": {},
   "outputs": [],
   "source": [
    "# functions that have yield statement are generator functions\n",
    "# naieve example to show principle\n",
    "def simple():\n",
    "    print('Start')\n",
    "    yield 1\n",
    "    print('nach 1')\n",
    "    yield 2\n",
    "    print('nach 2')\n",
    "    yield 3\n",
    "    print('nach 3')"
   ]
  },
  {
   "cell_type": "code",
   "execution_count": 14,
   "id": "dfc789ae-082d-4ed3-acad-fcf76fed9920",
   "metadata": {},
   "outputs": [],
   "source": [
    "s = simple()"
   ]
  },
  {
   "cell_type": "code",
   "execution_count": 15,
   "id": "20084224-178b-4391-90a9-db0e3d0dcbb7",
   "metadata": {},
   "outputs": [
    {
     "name": "stdout",
     "output_type": "stream",
     "text": [
      "Start\n"
     ]
    },
    {
     "data": {
      "text/plain": [
       "1"
      ]
     },
     "execution_count": 15,
     "metadata": {},
     "output_type": "execute_result"
    }
   ],
   "source": [
    "next(s)"
   ]
  },
  {
   "cell_type": "code",
   "execution_count": 16,
   "id": "5af0f98d-c228-4580-aeea-f6bcb5e23307",
   "metadata": {},
   "outputs": [
    {
     "name": "stdout",
     "output_type": "stream",
     "text": [
      "nach 1\n"
     ]
    },
    {
     "data": {
      "text/plain": [
       "2"
      ]
     },
     "execution_count": 16,
     "metadata": {},
     "output_type": "execute_result"
    }
   ],
   "source": [
    "next(s)"
   ]
  },
  {
   "cell_type": "code",
   "execution_count": 17,
   "id": "ec9f69e5-9257-4520-a0a8-9d8a43574933",
   "metadata": {},
   "outputs": [
    {
     "name": "stdout",
     "output_type": "stream",
     "text": [
      "nach 2\n"
     ]
    },
    {
     "data": {
      "text/plain": [
       "3"
      ]
     },
     "execution_count": 17,
     "metadata": {},
     "output_type": "execute_result"
    }
   ],
   "source": [
    "next(s)"
   ]
  },
  {
   "cell_type": "code",
   "execution_count": 18,
   "id": "9c310400-a251-4940-892a-d07779489bb5",
   "metadata": {},
   "outputs": [],
   "source": [
    "# there's an StopIteration error when there is nothing left\n",
    "#next(s)"
   ]
  },
  {
   "cell_type": "code",
   "execution_count": 19,
   "id": "aec55596-09b0-4ac5-b8fd-a3cf816a025c",
   "metadata": {},
   "outputs": [],
   "source": [
    "# a better example\n",
    "def endless(start=0, step=1):\n",
    "    value = start\n",
    "    while True:\n",
    "        yield value\n",
    "        value += step"
   ]
  },
  {
   "cell_type": "code",
   "execution_count": 20,
   "id": "0c1207f8-973b-44a5-8cce-8ad3504c3003",
   "metadata": {},
   "outputs": [
    {
     "data": {
      "text/plain": [
       "0"
      ]
     },
     "execution_count": 20,
     "metadata": {},
     "output_type": "execute_result"
    }
   ],
   "source": [
    "e = endless()\n",
    "next(e)"
   ]
  },
  {
   "cell_type": "code",
   "execution_count": 21,
   "id": "bc8f1e33-8f8f-44c7-a442-127cfc6ccf54",
   "metadata": {},
   "outputs": [
    {
     "data": {
      "text/plain": [
       "1"
      ]
     },
     "execution_count": 21,
     "metadata": {},
     "output_type": "execute_result"
    }
   ],
   "source": [
    "next(e)"
   ]
  },
  {
   "cell_type": "code",
   "execution_count": null,
   "id": "261bb4f9-fbd6-4629-9d36-b03659e0aa9f",
   "metadata": {},
   "outputs": [],
   "source": []
  }
 ],
 "metadata": {
  "kernelspec": {
   "display_name": "Python 3.9",
   "language": "python",
   "name": "python39"
  },
  "language_info": {
   "codemirror_mode": {
    "name": "ipython",
    "version": 3
   },
   "file_extension": ".py",
   "mimetype": "text/x-python",
   "name": "python",
   "nbconvert_exporter": "python",
   "pygments_lexer": "ipython3",
   "version": "3.9.7"
  }
 },
 "nbformat": 4,
 "nbformat_minor": 5
}
