{
 "cells": [
  {
   "cell_type": "markdown",
   "id": "074ce8f6-fbdc-426e-b825-0abe231a7e79",
   "metadata": {},
   "source": [
    "# Classes Exercises\n",
    "## Exercise 1"
   ]
  },
  {
   "cell_type": "code",
   "execution_count": 1,
   "id": "107657d3-8602-4b1d-b7b4-9f82b108c881",
   "metadata": {},
   "outputs": [],
   "source": [
    "#class Person:\n",
    "#    def __init__(self, name, location):\n",
    "#        self.name = name\n",
    "#        self.location = location"
   ]
  },
  {
   "cell_type": "markdown",
   "id": "4e53bef0-5725-4265-8e29-ba004e82f465",
   "metadata": {},
   "source": [
    "## Exercise 2"
   ]
  },
  {
   "cell_type": "code",
   "execution_count": 2,
   "id": "60857a5f-7ca4-4bab-8cbc-0e71adf73740",
   "metadata": {},
   "outputs": [],
   "source": [
    "class Person:\n",
    "    def __init__(self, name, location='Home'):\n",
    "        self.name = name\n",
    "        self.location = location\n",
    "\n",
    "    def go_to(self, location):\n",
    "        self.location = location"
   ]
  },
  {
   "cell_type": "markdown",
   "id": "90b7ba80-db0f-4852-9c83-b6c658b9f88c",
   "metadata": {},
   "source": [
    "## Exercise 3"
   ]
  },
  {
   "cell_type": "code",
   "execution_count": 3,
   "id": "fe8a1c89-30ff-42b7-8645-25774cc23c1d",
   "metadata": {},
   "outputs": [
    {
     "name": "stdout",
     "output_type": "stream",
     "text": [
      "{'name': 'Dave', 'location': 'Supermarket'}\n",
      "{'name': 'Julia', 'location': 'Gym'}\n",
      "{'name': 'Ned', 'location': 'Pub'}\n"
     ]
    }
   ],
   "source": [
    "def show_person(person):\n",
    "    print(person.__dict__)\n",
    "\n",
    "\n",
    "if __name__ == '__main__':\n",
    "    # use a tuple as it is immutable\n",
    "    people = (Person('Dave'), Person('Julia'), Person('Ned'))\n",
    "    # use a list as I want to pop() from it\n",
    "    locations = ['Pub', 'Gym', 'Supermarket']\n",
    "\n",
    "    for person in people:\n",
    "        person.go_to(locations.pop())\n",
    "        show_person(person)"
   ]
  },
  {
   "cell_type": "markdown",
   "id": "d2cc6cfd-2c84-4e8a-9917-3695c2464a81",
   "metadata": {},
   "source": [
    "# Inheritance Exercises\n",
    "## Exercise 1 & 2"
   ]
  },
  {
   "cell_type": "code",
   "execution_count": 4,
   "id": "f897304a-71bc-4911-aed4-32164e07c067",
   "metadata": {},
   "outputs": [],
   "source": [
    "class RestrictedPerson(Person):\n",
    "    allowed_locations = ('Home')\n",
    "\n",
    "    def go_to(self, location):\n",
    "        if location in self.allowed_locations:\n",
    "            self.location = location\n",
    "        else:\n",
    "            print(f'{self.name} is not allowed in {location}!')"
   ]
  },
  {
   "cell_type": "code",
   "execution_count": 5,
   "id": "ae7a02c1-3671-4de9-b3be-b39a1662cb8b",
   "metadata": {},
   "outputs": [
    {
     "data": {
      "text/plain": [
       "{'name': 'Kevin', 'location': 'Home'}"
      ]
     },
     "execution_count": 5,
     "metadata": {},
     "output_type": "execute_result"
    }
   ],
   "source": [
    "kevin = RestrictedPerson('Kevin')\n",
    "kevin.__dict__"
   ]
  },
  {
   "cell_type": "code",
   "execution_count": 6,
   "id": "54e03e4b-4bd4-44ea-b8cd-066f52340920",
   "metadata": {},
   "outputs": [
    {
     "name": "stdout",
     "output_type": "stream",
     "text": [
      "Kevin is not allowed in Pub!\n"
     ]
    }
   ],
   "source": [
    "kevin.go_to('Pub')"
   ]
  },
  {
   "cell_type": "markdown",
   "id": "578efb70-6dc2-40b5-aa37-b1229342e877",
   "metadata": {},
   "source": [
    "# Operation Overloading Exercises\n",
    "## Exercise 1"
   ]
  },
  {
   "cell_type": "code",
   "execution_count": 7,
   "id": "328b293d-e81b-4b57-8005-ac6a28f309fa",
   "metadata": {},
   "outputs": [],
   "source": [
    "class RestrictedPerson(Person):\n",
    "    allowed_locations = ('Home')\n",
    "\n",
    "    def go_to(self, location):\n",
    "        if location in self.allowed_locations:\n",
    "            self.location = location\n",
    "        else:\n",
    "            print(f'{self.name} is not allowed in {location}!')\n",
    "\n",
    "    def __rshift__(self, location):\n",
    "        self.go_to(location)"
   ]
  },
  {
   "cell_type": "code",
   "execution_count": 8,
   "id": "7e8fc28d-0dbe-46cf-aa7f-6e95cb1f5964",
   "metadata": {},
   "outputs": [
    {
     "data": {
      "text/plain": [
       "{'name': 'Dave', 'location': 'Home'}"
      ]
     },
     "execution_count": 8,
     "metadata": {},
     "output_type": "execute_result"
    }
   ],
   "source": [
    "dave = RestrictedPerson('Dave')\n",
    "dave.__dict__"
   ]
  },
  {
   "cell_type": "code",
   "execution_count": 9,
   "id": "b5fe7b56-5267-446f-88bb-1d45c81da356",
   "metadata": {},
   "outputs": [
    {
     "name": "stdout",
     "output_type": "stream",
     "text": [
      "Dave is not allowed in Gym!\n"
     ]
    }
   ],
   "source": [
    "dave >> 'Gym'"
   ]
  },
  {
   "cell_type": "code",
   "execution_count": null,
   "id": "3c7b94cd-91ad-460d-8891-d48feb99300b",
   "metadata": {},
   "outputs": [],
   "source": []
  }
 ],
 "metadata": {
  "kernelspec": {
   "display_name": "Python 3.9",
   "language": "python",
   "name": "python39"
  },
  "language_info": {
   "codemirror_mode": {
    "name": "ipython",
    "version": 3
   },
   "file_extension": ".py",
   "mimetype": "text/x-python",
   "name": "python",
   "nbconvert_exporter": "python",
   "pygments_lexer": "ipython3",
   "version": "3.9.7"
  }
 },
 "nbformat": 4,
 "nbformat_minor": 5
}
