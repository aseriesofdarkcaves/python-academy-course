{
 "cells": [
  {
   "cell_type": "markdown",
   "id": "363b2aeb-b1a3-4cd6-9b51-6f876e1074ab",
   "metadata": {},
   "source": [
    "# Classes"
   ]
  },
  {
   "cell_type": "code",
   "execution_count": 1,
   "id": "9e37e3fd-9396-4a2a-ae4c-1da68138cf46",
   "metadata": {},
   "outputs": [],
   "source": [
    "class Car:\n",
    "    # \"double-under\" or \"dunder\" methods are special methods\n",
    "    def __init__(self, make, colour='Black'):\n",
    "        self.make = make\n",
    "        self.colour = colour\n",
    "        self.odometer = 0\n",
    "\n",
    "    def drive(self, distance):\n",
    "        \"\"\"Distance in km\"\"\"\n",
    "        self.odometer += distance"
   ]
  },
  {
   "cell_type": "code",
   "execution_count": 2,
   "id": "8b00412c-566d-4135-bb3f-aab3fd608887",
   "metadata": {},
   "outputs": [],
   "source": [
    "my_car = Car('VW', 'Red')"
   ]
  },
  {
   "cell_type": "code",
   "execution_count": 3,
   "id": "0d34300c-dd2b-4884-bc48-f1218fd29757",
   "metadata": {},
   "outputs": [
    {
     "data": {
      "text/plain": [
       "'VW'"
      ]
     },
     "execution_count": 3,
     "metadata": {},
     "output_type": "execute_result"
    }
   ],
   "source": [
    "my_car.make"
   ]
  },
  {
   "cell_type": "code",
   "execution_count": 4,
   "id": "2e389e83-44be-4756-9cb2-89a1fc689b81",
   "metadata": {},
   "outputs": [
    {
     "data": {
      "text/plain": [
       "20"
      ]
     },
     "execution_count": 4,
     "metadata": {},
     "output_type": "execute_result"
    }
   ],
   "source": [
    "# note that self wasn't given here\n",
    "my_car.drive(20)\n",
    "my_car.odometer"
   ]
  },
  {
   "cell_type": "code",
   "execution_count": 5,
   "id": "97274742-33c0-4be7-ac04-6080b4a536a9",
   "metadata": {},
   "outputs": [
    {
     "name": "stdout",
     "output_type": "stream",
     "text": [
      "BMW\n",
      "Green\n"
     ]
    }
   ],
   "source": [
    "my_car2 = Car('BMW', 'Green')\n",
    "print(my_car2.make)\n",
    "print(my_car2.colour)"
   ]
  },
  {
   "cell_type": "code",
   "execution_count": 6,
   "id": "946c5295-3dbf-43bb-8ae8-758ca49b1fe3",
   "metadata": {},
   "outputs": [
    {
     "data": {
      "text/plain": [
       "{'make': 'VW', 'colour': 'Red', 'odometer': 20}"
      ]
     },
     "execution_count": 6,
     "metadata": {},
     "output_type": "execute_result"
    }
   ],
   "source": [
    "# dict representation of the object\n",
    "my_car.__dict__"
   ]
  },
  {
   "cell_type": "code",
   "execution_count": 7,
   "id": "b0d30e1a-e5f9-48f1-9ff4-8efcb4583da3",
   "metadata": {},
   "outputs": [
    {
     "data": {
      "text/plain": [
       "{'make': 'BMW', 'colour': 'Green', 'odometer': 0}"
      ]
     },
     "execution_count": 7,
     "metadata": {},
     "output_type": "execute_result"
    }
   ],
   "source": [
    "my_car2.__dict__"
   ]
  },
  {
   "cell_type": "code",
   "execution_count": 8,
   "id": "517d2f66-70e7-4000-b6f7-8d9ca53bd5cd",
   "metadata": {},
   "outputs": [],
   "source": [
    "import random\n",
    "\n",
    "\n",
    "class SimpleCar:\n",
    "    colours = ['Black', 'Brown', 'Pink', 'Red']\n",
    "\n",
    "    def __init__(self, make, colour=None):\n",
    "        self.make = make\n",
    "        if colour is None:\n",
    "            self.colour = random.choice(self.colours)\n",
    "        else:\n",
    "            self.colour = colour\n",
    "        self.odometer = 0\n",
    "\n",
    "    def drive(self, distance):\n",
    "        \"\"\"Distance in km\"\"\"\n",
    "        self.odometer += distance"
   ]
  },
  {
   "cell_type": "code",
   "execution_count": 9,
   "id": "a514587d-cfd6-4056-84fb-54c41bac2077",
   "metadata": {},
   "outputs": [
    {
     "data": {
      "text/plain": [
       "'Black'"
      ]
     },
     "execution_count": 9,
     "metadata": {},
     "output_type": "execute_result"
    }
   ],
   "source": [
    "simple1 = SimpleCar('Skoda')\n",
    "simple1.colour"
   ]
  },
  {
   "cell_type": "code",
   "execution_count": 10,
   "id": "9d145c09-dc6f-41df-8e8d-f29f08056fc2",
   "metadata": {},
   "outputs": [
    {
     "data": {
      "text/plain": [
       "{'make': 'Skoda', 'colour': 'Black', 'odometer': 0}"
      ]
     },
     "execution_count": 10,
     "metadata": {},
     "output_type": "execute_result"
    }
   ],
   "source": [
    "simple1.__dict__"
   ]
  },
  {
   "cell_type": "code",
   "execution_count": 11,
   "id": "6ff525c8-642b-46f3-82f0-556dd86bb240",
   "metadata": {},
   "outputs": [
    {
     "data": {
      "text/plain": [
       "['Green']"
      ]
     },
     "execution_count": 11,
     "metadata": {},
     "output_type": "execute_result"
    }
   ],
   "source": [
    "# Instance variables can be changed just like any others\n",
    "simple1.colours = ['Green']\n",
    "simple1.colours"
   ]
  },
  {
   "cell_type": "code",
   "execution_count": 12,
   "id": "c5cff626-b4d7-41db-83dc-1722cf2ecd7e",
   "metadata": {},
   "outputs": [
    {
     "data": {
      "text/plain": [
       "['Black', 'Brown', 'Pink', 'Red']"
      ]
     },
     "execution_count": 12,
     "metadata": {},
     "output_type": "execute_result"
    }
   ],
   "source": [
    "SimpleCar.colours"
   ]
  },
  {
   "cell_type": "code",
   "execution_count": 13,
   "id": "8324f8b0-3520-42e4-9556-2275bcfa25be",
   "metadata": {},
   "outputs": [
    {
     "data": {
      "text/plain": [
       "['Purple']"
      ]
     },
     "execution_count": 13,
     "metadata": {},
     "output_type": "execute_result"
    }
   ],
   "source": [
    "# You can redefine the class variables too...\n",
    "SimpleCar.colours = ['Purple']\n",
    "SimpleCar.colours"
   ]
  },
  {
   "cell_type": "code",
   "execution_count": 14,
   "id": "6a8db7c4-5456-4d73-9004-ba4376cf0455",
   "metadata": {},
   "outputs": [
    {
     "data": {
      "text/plain": [
       "['Purple']"
      ]
     },
     "execution_count": 14,
     "metadata": {},
     "output_type": "execute_result"
    }
   ],
   "source": [
    "# So that new cars are affected by the change above\n",
    "simple2 = SimpleCar('Ford')\n",
    "simple2.colours"
   ]
  },
  {
   "cell_type": "code",
   "execution_count": 15,
   "id": "864f2d69-0296-485b-a6c6-8f1bf7f90e18",
   "metadata": {},
   "outputs": [],
   "source": [
    "import random\n",
    "\n",
    "\n",
    "class SimpleCarProps:\n",
    "    colours = ['Black', 'Brown', 'Pink', 'Red']\n",
    "\n",
    "    def __init__(self, make, colour=None):\n",
    "        self.make = make\n",
    "        if colour is None:\n",
    "            self.colour = random.choice(self.colours)\n",
    "        else:\n",
    "            self.colour = colour\n",
    "        self.odometer = 0\n",
    "\n",
    "    def drive(self, distance):\n",
    "        \"\"\"Distance in km\"\"\"\n",
    "        self.odometer += distance\n",
    "\n",
    "    # TODO: figure out what's going on here\n",
    "    @property\n",
    "    def colour(self):\n",
    "        # note the use of underscore here - could be for encapsulation?\n",
    "        return self._colour\n",
    "\n",
    "    @colour.setter\n",
    "    def colour(self, colour):\n",
    "        if colour not in self.colour:\n",
    "            raise ValueError(f'Colour \"{colour}\" not allowed!')\n",
    "        # note the use of underscore here - could be for encapsulation?\n",
    "        self._colour = colour"
   ]
  },
  {
   "cell_type": "code",
   "execution_count": 16,
   "id": "02da95a6-eac7-414c-9586-3ef0966e6d9a",
   "metadata": {},
   "outputs": [
    {
     "ename": "AttributeError",
     "evalue": "'SimpleCarProps' object has no attribute '_colour'",
     "output_type": "error",
     "traceback": [
      "\u001b[0;31m---------------------------------------------------------------------------\u001b[0m",
      "\u001b[0;31mAttributeError\u001b[0m                            Traceback (most recent call last)",
      "\u001b[0;32m/tmp/ipykernel_129465/1464072040.py\u001b[0m in \u001b[0;36m<module>\u001b[0;34m\u001b[0m\n\u001b[0;32m----> 1\u001b[0;31m \u001b[0maudi\u001b[0m \u001b[0;34m=\u001b[0m \u001b[0mSimpleCarProps\u001b[0m\u001b[0;34m(\u001b[0m\u001b[0;34m'Audi'\u001b[0m\u001b[0;34m)\u001b[0m\u001b[0;34m\u001b[0m\u001b[0;34m\u001b[0m\u001b[0m\n\u001b[0m\u001b[1;32m      2\u001b[0m \u001b[0maudi\u001b[0m\u001b[0;34m.\u001b[0m\u001b[0mcolour\u001b[0m\u001b[0;34m(\u001b[0m\u001b[0;34m'Green'\u001b[0m\u001b[0;34m)\u001b[0m\u001b[0;34m\u001b[0m\u001b[0;34m\u001b[0m\u001b[0m\n\u001b[1;32m      3\u001b[0m \u001b[0maudi\u001b[0m\u001b[0;34m.\u001b[0m\u001b[0m__dict__\u001b[0m\u001b[0;34m\u001b[0m\u001b[0;34m\u001b[0m\u001b[0m\n",
      "\u001b[0;32m/tmp/ipykernel_129465/3950230001.py\u001b[0m in \u001b[0;36m__init__\u001b[0;34m(self, make, colour)\u001b[0m\n\u001b[1;32m      8\u001b[0m         \u001b[0mself\u001b[0m\u001b[0;34m.\u001b[0m\u001b[0mmake\u001b[0m \u001b[0;34m=\u001b[0m \u001b[0mmake\u001b[0m\u001b[0;34m\u001b[0m\u001b[0;34m\u001b[0m\u001b[0m\n\u001b[1;32m      9\u001b[0m         \u001b[0;32mif\u001b[0m \u001b[0mcolour\u001b[0m \u001b[0;32mis\u001b[0m \u001b[0;32mNone\u001b[0m\u001b[0;34m:\u001b[0m\u001b[0;34m\u001b[0m\u001b[0;34m\u001b[0m\u001b[0m\n\u001b[0;32m---> 10\u001b[0;31m             \u001b[0mself\u001b[0m\u001b[0;34m.\u001b[0m\u001b[0mcolour\u001b[0m \u001b[0;34m=\u001b[0m \u001b[0mrandom\u001b[0m\u001b[0;34m.\u001b[0m\u001b[0mchoice\u001b[0m\u001b[0;34m(\u001b[0m\u001b[0mself\u001b[0m\u001b[0;34m.\u001b[0m\u001b[0mcolours\u001b[0m\u001b[0;34m)\u001b[0m\u001b[0;34m\u001b[0m\u001b[0;34m\u001b[0m\u001b[0m\n\u001b[0m\u001b[1;32m     11\u001b[0m         \u001b[0;32melse\u001b[0m\u001b[0;34m:\u001b[0m\u001b[0;34m\u001b[0m\u001b[0;34m\u001b[0m\u001b[0m\n\u001b[1;32m     12\u001b[0m             \u001b[0mself\u001b[0m\u001b[0;34m.\u001b[0m\u001b[0mcolour\u001b[0m \u001b[0;34m=\u001b[0m \u001b[0mcolour\u001b[0m\u001b[0;34m\u001b[0m\u001b[0;34m\u001b[0m\u001b[0m\n",
      "\u001b[0;32m/tmp/ipykernel_129465/3950230001.py\u001b[0m in \u001b[0;36mcolour\u001b[0;34m(self, colour)\u001b[0m\n\u001b[1;32m     25\u001b[0m     \u001b[0;34m@\u001b[0m\u001b[0mcolour\u001b[0m\u001b[0;34m.\u001b[0m\u001b[0msetter\u001b[0m\u001b[0;34m\u001b[0m\u001b[0;34m\u001b[0m\u001b[0m\n\u001b[1;32m     26\u001b[0m     \u001b[0;32mdef\u001b[0m \u001b[0mcolour\u001b[0m\u001b[0;34m(\u001b[0m\u001b[0mself\u001b[0m\u001b[0;34m,\u001b[0m \u001b[0mcolour\u001b[0m\u001b[0;34m)\u001b[0m\u001b[0;34m:\u001b[0m\u001b[0;34m\u001b[0m\u001b[0;34m\u001b[0m\u001b[0m\n\u001b[0;32m---> 27\u001b[0;31m         \u001b[0;32mif\u001b[0m \u001b[0mcolour\u001b[0m \u001b[0;32mnot\u001b[0m \u001b[0;32min\u001b[0m \u001b[0mself\u001b[0m\u001b[0;34m.\u001b[0m\u001b[0mcolour\u001b[0m\u001b[0;34m:\u001b[0m\u001b[0;34m\u001b[0m\u001b[0;34m\u001b[0m\u001b[0m\n\u001b[0m\u001b[1;32m     28\u001b[0m             \u001b[0;32mraise\u001b[0m \u001b[0mValueError\u001b[0m\u001b[0;34m(\u001b[0m\u001b[0;34mf'Colour \"{colour}\" not allowed!'\u001b[0m\u001b[0;34m)\u001b[0m\u001b[0;34m\u001b[0m\u001b[0;34m\u001b[0m\u001b[0m\n\u001b[1;32m     29\u001b[0m         \u001b[0;31m# note the use of underscore here - could be for encapsulation?\u001b[0m\u001b[0;34m\u001b[0m\u001b[0;34m\u001b[0m\u001b[0m\n",
      "\u001b[0;32m/tmp/ipykernel_129465/3950230001.py\u001b[0m in \u001b[0;36mcolour\u001b[0;34m(self)\u001b[0m\n\u001b[1;32m     21\u001b[0m     \u001b[0;32mdef\u001b[0m \u001b[0mcolour\u001b[0m\u001b[0;34m(\u001b[0m\u001b[0mself\u001b[0m\u001b[0;34m)\u001b[0m\u001b[0;34m:\u001b[0m\u001b[0;34m\u001b[0m\u001b[0;34m\u001b[0m\u001b[0m\n\u001b[1;32m     22\u001b[0m         \u001b[0;31m# note the use of underscore here - could be for encapsulation?\u001b[0m\u001b[0;34m\u001b[0m\u001b[0;34m\u001b[0m\u001b[0m\n\u001b[0;32m---> 23\u001b[0;31m         \u001b[0;32mreturn\u001b[0m \u001b[0mself\u001b[0m\u001b[0;34m.\u001b[0m\u001b[0m_colour\u001b[0m\u001b[0;34m\u001b[0m\u001b[0;34m\u001b[0m\u001b[0m\n\u001b[0m\u001b[1;32m     24\u001b[0m \u001b[0;34m\u001b[0m\u001b[0m\n\u001b[1;32m     25\u001b[0m     \u001b[0;34m@\u001b[0m\u001b[0mcolour\u001b[0m\u001b[0;34m.\u001b[0m\u001b[0msetter\u001b[0m\u001b[0;34m\u001b[0m\u001b[0;34m\u001b[0m\u001b[0m\n",
      "\u001b[0;31mAttributeError\u001b[0m: 'SimpleCarProps' object has no attribute '_colour'"
     ]
    }
   ],
   "source": [
    "audi = SimpleCarProps('Audi')\n",
    "audi.colour('Green')\n",
    "audi.__dict__"
   ]
  },
  {
   "cell_type": "markdown",
   "id": "123370bf-b852-46b8-94a0-da4e0349b697",
   "metadata": {},
   "source": [
    "## Inheritance\n",
    "Deriving subclasses from superclasses.\n",
    "\n",
    "Classes are Types, so that means a class can inherit from built-in objects like `dict`.\n",
    "\n",
    "Python supports multiple-inheritance. There are precedence rules which define method resolution."
   ]
  },
  {
   "cell_type": "code",
   "execution_count": 24,
   "id": "b02390dd-3c2e-4c3b-a379-7f65d7d43078",
   "metadata": {},
   "outputs": [],
   "source": [
    "class BetriebsAuto:\n",
    "    def __init__(self, marke, farbe):\n",
    "        self.marke = marke\n",
    "        self.farbe = farbe\n",
    "        self.km_stand = 0\n",
    "        self.fahrten = []\n",
    "\n",
    "    def fahre(self, km):\n",
    "        self.km_stand += km\n",
    "        self.farhten.append(km)\n",
    "\n",
    "    def sound_horn(self):\n",
    "        print('Beep!')"
   ]
  },
  {
   "cell_type": "code",
   "execution_count": 25,
   "id": "e23ff447-271e-4e5f-92be-287c39205f1f",
   "metadata": {},
   "outputs": [],
   "source": [
    "class LKW(BetriebsAuto):\n",
    "    def fahre(self, km):\n",
    "        # different behaviour for this method\n",
    "        self.km_stand += km * 2\n",
    "        self.fahrten.append(km)"
   ]
  },
  {
   "cell_type": "code",
   "execution_count": 26,
   "id": "d4f45b14-016e-45f4-ab31-cfdeb5e2afab",
   "metadata": {},
   "outputs": [
    {
     "name": "stdout",
     "output_type": "stream",
     "text": [
      "Beep!\n"
     ]
    }
   ],
   "source": [
    "L1 = LKW('MAN', 'Grün')\n",
    "# inherited method\n",
    "L1.sound_horn()"
   ]
  },
  {
   "cell_type": "code",
   "execution_count": 27,
   "id": "7db9ce55-8a6b-4d73-a248-6b4b4cc3376b",
   "metadata": {},
   "outputs": [
    {
     "data": {
      "text/plain": [
       "{'marke': 'MAN', 'farbe': 'Grün', 'km_stand': 20, 'fahrten': [10]}"
      ]
     },
     "execution_count": 27,
     "metadata": {},
     "output_type": "execute_result"
    }
   ],
   "source": [
    "L1.fahre(10)\n",
    "L1.__dict__"
   ]
  },
  {
   "cell_type": "code",
   "execution_count": 28,
   "id": "b5aa43be-6560-4faf-b24f-631bc6956530",
   "metadata": {},
   "outputs": [
    {
     "data": {
      "text/plain": [
       "[__main__.LKW, __main__.BetriebsAuto, object]"
      ]
     },
     "execution_count": 28,
     "metadata": {},
     "output_type": "execute_result"
    }
   ],
   "source": [
    "# Method Resolution Order, shows the order of the method resolution\n",
    "# when there are methods with the same name\n",
    "LKW.mro()"
   ]
  },
  {
   "cell_type": "code",
   "execution_count": 29,
   "id": "cf831223-8b56-49bc-9aaa-02811d34bfff",
   "metadata": {},
   "outputs": [],
   "source": [
    "class SuperLKW(BetriebsAuto):\n",
    "    def fahre(self, km):\n",
    "        super().fahre(km * 2)"
   ]
  },
  {
   "cell_type": "code",
   "execution_count": 30,
   "id": "788cf730-9e1b-49f2-8bb5-908e71aad387",
   "metadata": {},
   "outputs": [
    {
     "data": {
      "text/plain": [
       "[__main__.SuperLKW, __main__.BetriebsAuto, object]"
      ]
     },
     "execution_count": 30,
     "metadata": {},
     "output_type": "execute_result"
    }
   ],
   "source": [
    "SuperLKW.mro()"
   ]
  },
  {
   "cell_type": "code",
   "execution_count": 33,
   "id": "fe97eb83-df83-4ee2-b7d8-5563426eb266",
   "metadata": {},
   "outputs": [],
   "source": [
    "class PointlessInheritance(LKW):\n",
    "    pass"
   ]
  },
  {
   "cell_type": "code",
   "execution_count": 35,
   "id": "46332b4a-80ec-48b1-bca0-f8294dc2968e",
   "metadata": {},
   "outputs": [
    {
     "data": {
      "text/plain": [
       "{'marke': 'Ferrari', 'farbe': 'Brown', 'km_stand': 0, 'fahrten': []}"
      ]
     },
     "execution_count": 35,
     "metadata": {},
     "output_type": "execute_result"
    }
   ],
   "source": [
    "ferrari = PointlessInheritance('Ferrari', 'Brown')\n",
    "ferrari.__dict__"
   ]
  },
  {
   "cell_type": "markdown",
   "id": "c8b71e58-af93-4b40-b44d-bd64282c7c3d",
   "metadata": {},
   "source": [
    "## Operator Overloading"
   ]
  },
  {
   "cell_type": "code",
   "execution_count": 31,
   "id": "0280181c-a6de-4670-9865-8b26e9fdf382",
   "metadata": {},
   "outputs": [],
   "source": [
    "class AddierbaresAuto:\n",
    "    def __init__(self, marke, farbe):\n",
    "        self.marke = marke\n",
    "        self.farbe = farbe\n",
    "        self.km_stand = 0\n",
    "\n",
    "    def fahre(self, km):\n",
    "        self.km_stand += km\n",
    "\n",
    "    def __add__(self, other):\n",
    "        return AddierbaresAuto(self.marke + other.marke, self.farbe + other.farbe)"
   ]
  },
  {
   "cell_type": "code",
   "execution_count": 32,
   "id": "a7b972b6-12bb-4888-99c4-ace987529f18",
   "metadata": {},
   "outputs": [
    {
     "data": {
      "text/plain": [
       "{'marke': 'VWBMW', 'farbe': 'RotSchwarz', 'km_stand': 0}"
      ]
     },
     "execution_count": 32,
     "metadata": {},
     "output_type": "execute_result"
    }
   ],
   "source": [
    "brum1 = AddierbaresAuto('VW', 'Rot')\n",
    "brum2 = AddierbaresAuto('BMW', 'Schwarz')\n",
    "# if __add__ is implemented, using the plus operator(+) will call it\n",
    "brum_brum = brum1 + brum2\n",
    "brum_brum.__dict__"
   ]
  },
  {
   "cell_type": "code",
   "execution_count": 37,
   "id": "46f709f9-1e10-4eb2-a16f-ae539f43c2bf",
   "metadata": {},
   "outputs": [
    {
     "data": {
      "text/plain": [
       "['__add__',\n",
       " '__class__',\n",
       " '__delattr__',\n",
       " '__dict__',\n",
       " '__dir__',\n",
       " '__doc__',\n",
       " '__eq__',\n",
       " '__format__',\n",
       " '__ge__',\n",
       " '__getattribute__',\n",
       " '__gt__',\n",
       " '__hash__',\n",
       " '__init__',\n",
       " '__init_subclass__',\n",
       " '__le__',\n",
       " '__lt__',\n",
       " '__module__',\n",
       " '__ne__',\n",
       " '__new__',\n",
       " '__reduce__',\n",
       " '__reduce_ex__',\n",
       " '__repr__',\n",
       " '__setattr__',\n",
       " '__sizeof__',\n",
       " '__str__',\n",
       " '__subclasshook__',\n",
       " '__weakref__',\n",
       " 'fahre',\n",
       " 'farbe',\n",
       " 'km_stand',\n",
       " 'marke']"
      ]
     },
     "execution_count": 37,
     "metadata": {},
     "output_type": "execute_result"
    }
   ],
   "source": [
    "# this can show you a bit more about the object\n",
    "dir(brum1)"
   ]
  },
  {
   "cell_type": "code",
   "execution_count": 39,
   "id": "3f0a9e93-228b-40bb-af2b-29fb4df9c2af",
   "metadata": {},
   "outputs": [
    {
     "data": {
      "text/plain": [
       "{'marke': 'VW', 'farbe': 'Rot', 'km_stand': 0}"
      ]
     },
     "execution_count": 39,
     "metadata": {},
     "output_type": "execute_result"
    }
   ],
   "source": [
    "# this gives a dict of the variables and their current values\n",
    "vars(brum1)"
   ]
  },
  {
   "cell_type": "code",
   "execution_count": null,
   "id": "f4e73943-6e03-4127-abe1-46fadd73c45f",
   "metadata": {},
   "outputs": [],
   "source": []
  }
 ],
 "metadata": {
  "kernelspec": {
   "display_name": "Python 3.9",
   "language": "python",
   "name": "python39"
  },
  "language_info": {
   "codemirror_mode": {
    "name": "ipython",
    "version": 3
   },
   "file_extension": ".py",
   "mimetype": "text/x-python",
   "name": "python",
   "nbconvert_exporter": "python",
   "pygments_lexer": "ipython3",
   "version": "3.9.7"
  }
 },
 "nbformat": 4,
 "nbformat_minor": 5
}
