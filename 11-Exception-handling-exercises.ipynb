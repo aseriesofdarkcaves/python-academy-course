{
 "cells": [
  {
   "cell_type": "markdown",
   "id": "2d18a859-dc96-45d9-9a10-58450c5f733d",
   "metadata": {},
   "source": [
    "# Exception Handling Exercises\n",
    "## Exercise 1"
   ]
  },
  {
   "cell_type": "code",
   "execution_count": 9,
   "id": "38d17abc-e9b8-4064-af5e-00c8cb9ef7b0",
   "metadata": {},
   "outputs": [],
   "source": [
    "class Thing:\n",
    "    def __init__(self):\n",
    "        self.thingamajig = 'thingamajig'"
   ]
  },
  {
   "cell_type": "code",
   "execution_count": 10,
   "id": "0984b2ea-0649-4b8d-aac5-4d3f0b04fb9e",
   "metadata": {},
   "outputs": [
    {
     "ename": "AttributeError",
     "evalue": "'Thing' object has no attribute 'burger'",
     "output_type": "error",
     "traceback": [
      "\u001b[0;31m---------------------------------------------------------------------------\u001b[0m",
      "\u001b[0;31mAttributeError\u001b[0m                            Traceback (most recent call last)",
      "\u001b[0;32m/tmp/ipykernel_135440/3501100642.py\u001b[0m in \u001b[0;36m<module>\u001b[0;34m\u001b[0m\n\u001b[1;32m      1\u001b[0m \u001b[0mthing\u001b[0m \u001b[0;34m=\u001b[0m \u001b[0mThing\u001b[0m\u001b[0;34m(\u001b[0m\u001b[0;34m)\u001b[0m\u001b[0;34m\u001b[0m\u001b[0;34m\u001b[0m\u001b[0m\n\u001b[0;32m----> 2\u001b[0;31m \u001b[0mthing\u001b[0m\u001b[0;34m.\u001b[0m\u001b[0mburger\u001b[0m\u001b[0;34m\u001b[0m\u001b[0;34m\u001b[0m\u001b[0m\n\u001b[0m",
      "\u001b[0;31mAttributeError\u001b[0m: 'Thing' object has no attribute 'burger'"
     ]
    }
   ],
   "source": [
    "thing = Thing()\n",
    "thing.burger"
   ]
  },
  {
   "cell_type": "markdown",
   "id": "57857ee5-6823-4ec0-8350-739ed3b1b82f",
   "metadata": {},
   "source": [
    "## Exercise 2"
   ]
  },
  {
   "cell_type": "code",
   "execution_count": 56,
   "id": "d03d04bb-1670-450d-9c70-cf6fd7ecc76c",
   "metadata": {},
   "outputs": [
    {
     "name": "stdout",
     "output_type": "stream",
     "text": [
      "Oof - that attribute doesn't exist!\n"
     ]
    }
   ],
   "source": [
    "try:\n",
    "    thing = Thing()\n",
    "    thing.burger\n",
    "except AttributeError:\n",
    "    print(\"Oof - that attribute doesn't exist!\")"
   ]
  },
  {
   "cell_type": "markdown",
   "id": "49eb5372-f8de-4dc8-9ad0-c46d3e02596f",
   "metadata": {},
   "source": [
    "## Exercise 3"
   ]
  },
  {
   "cell_type": "code",
   "execution_count": 57,
   "id": "82c6c7f0-3953-44cd-91b3-32e9c287afc7",
   "metadata": {},
   "outputs": [],
   "source": [
    "def execute(is_cause_exception=False):\n",
    "    if is_cause_exception:\n",
    "        try:\n",
    "            thing = Thing()\n",
    "            thing.burger\n",
    "        except AttributeError:\n",
    "            print(\"Oof - that attribute doesn't exist!\")\n",
    "    print('Done!')"
   ]
  },
  {
   "cell_type": "code",
   "execution_count": 39,
   "id": "d0c86191-bac6-41c8-a6a1-e9bb7a42c89a",
   "metadata": {},
   "outputs": [
    {
     "name": "stdout",
     "output_type": "stream",
     "text": [
      "Oof - that attribute doesn't exist\n",
      "Done!\n"
     ]
    }
   ],
   "source": [
    "execute(True)"
   ]
  },
  {
   "cell_type": "code",
   "execution_count": 40,
   "id": "aa136504-9ef4-4c16-a203-1a3b0364e2d9",
   "metadata": {},
   "outputs": [
    {
     "name": "stdout",
     "output_type": "stream",
     "text": [
      "Done!\n"
     ]
    }
   ],
   "source": [
    "execute(False)"
   ]
  },
  {
   "cell_type": "code",
   "execution_count": 41,
   "id": "f6f4b6b1-1145-4637-bae7-591950e40cda",
   "metadata": {},
   "outputs": [
    {
     "name": "stdout",
     "output_type": "stream",
     "text": [
      "Done!\n"
     ]
    }
   ],
   "source": [
    "execute()"
   ]
  },
  {
   "cell_type": "code",
   "execution_count": 58,
   "id": "12e4d2ea-9fbc-440f-a02a-9307ad9a4cce",
   "metadata": {},
   "outputs": [],
   "source": [
    "def execute_with_finally(is_cause_exception=False):\n",
    "    try:\n",
    "        if is_cause_exception:\n",
    "            thing = Thing()\n",
    "            thing.burger\n",
    "    except AttributeError:\n",
    "        print(\"Oof - that attribute doesn't exist!\")\n",
    "    finally:\n",
    "        print('Done!')"
   ]
  },
  {
   "cell_type": "code",
   "execution_count": 48,
   "id": "fe8c6c6b-e103-45bc-bad6-3cb85f3e8e0f",
   "metadata": {},
   "outputs": [
    {
     "name": "stdout",
     "output_type": "stream",
     "text": [
      "Oof - that attribute doesn't exist\n",
      "Done!\n"
     ]
    }
   ],
   "source": [
    "execute_with_finally(True)"
   ]
  },
  {
   "cell_type": "code",
   "execution_count": 49,
   "id": "54c9c5cf-e6ae-4f02-89d8-e9b35394be0b",
   "metadata": {},
   "outputs": [
    {
     "name": "stdout",
     "output_type": "stream",
     "text": [
      "Done!\n"
     ]
    }
   ],
   "source": [
    "execute(False)"
   ]
  },
  {
   "cell_type": "code",
   "execution_count": 50,
   "id": "f81ba2ca-e4b9-4d96-8162-4005b5fdf627",
   "metadata": {},
   "outputs": [
    {
     "name": "stdout",
     "output_type": "stream",
     "text": [
      "Done!\n"
     ]
    }
   ],
   "source": [
    "execute()"
   ]
  },
  {
   "cell_type": "markdown",
   "id": "2065a86a-26fe-44c2-ad93-c426b1a37414",
   "metadata": {},
   "source": [
    "## Exercise 4"
   ]
  },
  {
   "cell_type": "code",
   "execution_count": 66,
   "id": "a2a06d71-bdb7-4aba-babf-89152a6b29de",
   "metadata": {},
   "outputs": [
    {
     "name": "stdout",
     "output_type": "stream",
     "text": [
      "Oof - the list ain't that big, don't use an index larger than:  4\n",
      "My hovercraft is full of eels!\n"
     ]
    }
   ],
   "source": [
    "elements = [*range(5)]\n",
    "\n",
    "try:\n",
    "    elements[7]\n",
    "except IndexError:\n",
    "    print(\"Oof - the list ain't that big, don't use an index larger than: \", len(elements) - 1)\n",
    "print('My hovercraft is full of eels!')"
   ]
  },
  {
   "cell_type": "markdown",
   "id": "c3c3b62f-a273-4b07-bb2d-ac38d20943f2",
   "metadata": {},
   "source": [
    "## Exercise 5\n",
    "### Create custom dict to use later"
   ]
  },
  {
   "cell_type": "code",
   "execution_count": null,
   "id": "b8ee68b8-c7b5-4ad4-8582-e8a1dfd690c9",
   "metadata": {},
   "outputs": [],
   "source": [
    "dir(dict)"
   ]
  },
  {
   "cell_type": "code",
   "execution_count": 276,
   "id": "b783f099-4ca3-4830-af99-25f44a47f119",
   "metadata": {},
   "outputs": [],
   "source": [
    "class SuperDict(dict):\n",
    "    def __init__(self, dictionary):\n",
    "        self.update(dictionary)\n",
    "\n",
    "    # override dict's get method to implement my own\n",
    "    def get(dictionary, key, *default):\n",
    "        for dictkey in dictionary.keys():\n",
    "            if dictkey == key:\n",
    "                return dictionary[key]\n",
    "            else:\n",
    "                if len(default) == 0:\n",
    "                    return None\n",
    "                else:\n",
    "                    # TODO: this feels like a hack\n",
    "                    return default[0]"
   ]
  },
  {
   "cell_type": "code",
   "execution_count": 277,
   "id": "2c3b0cdf-a4be-4a85-bd07-1a6d8067f8e9",
   "metadata": {},
   "outputs": [
    {
     "data": {
      "text/plain": [
       "{'a': 100, 'b': 200}"
      ]
     },
     "execution_count": 277,
     "metadata": {},
     "output_type": "execute_result"
    }
   ],
   "source": [
    "ref_dict = {'a': 100, 'b': 200}\n",
    "superdict = SuperDict(ref_dict)\n",
    "superdict\n",
    "\n",
    "#type(superdict)\n",
    "#superdict\n",
    "#superdict.get('x')"
   ]
  },
  {
   "cell_type": "code",
   "execution_count": 302,
   "id": "bed2a874-87ce-49f5-92a4-793351b258c3",
   "metadata": {},
   "outputs": [
    {
     "name": "stdout",
     "output_type": "stream",
     "text": [
      "None\n"
     ]
    }
   ],
   "source": [
    "# if the key isn't found via get, None is returned... NOT an exception!\n",
    "result = ref_dict.get('x')\n",
    "print(result)"
   ]
  },
  {
   "cell_type": "code",
   "execution_count": 304,
   "id": "891ba90d-b87e-413b-bfc4-e482536b099d",
   "metadata": {},
   "outputs": [
    {
     "ename": "KeyError",
     "evalue": "'x'",
     "output_type": "error",
     "traceback": [
      "\u001b[0;31m---------------------------------------------------------------------------\u001b[0m",
      "\u001b[0;31mKeyError\u001b[0m                                  Traceback (most recent call last)",
      "\u001b[0;32m/tmp/ipykernel_135440/2649201728.py\u001b[0m in \u001b[0;36m<module>\u001b[0;34m\u001b[0m\n\u001b[1;32m      1\u001b[0m \u001b[0;31m# but, index notation will raise a KeyError!\u001b[0m\u001b[0;34m\u001b[0m\u001b[0;34m\u001b[0m\u001b[0m\n\u001b[0;32m----> 2\u001b[0;31m \u001b[0mref_dict\u001b[0m\u001b[0;34m[\u001b[0m\u001b[0;34m'x'\u001b[0m\u001b[0;34m]\u001b[0m\u001b[0;34m\u001b[0m\u001b[0;34m\u001b[0m\u001b[0m\n\u001b[0m",
      "\u001b[0;31mKeyError\u001b[0m: 'x'"
     ]
    }
   ],
   "source": [
    "# but, index notation will raise a KeyError!\n",
    "ref_dict['x']"
   ]
  },
  {
   "cell_type": "markdown",
   "id": "f7af8647-d4b7-49cd-bbdf-043ae868bf77",
   "metadata": {},
   "source": [
    "### Attempt 0 - Index notation (a.k.a. Fake it till you make it)"
   ]
  },
  {
   "cell_type": "code",
   "execution_count": 313,
   "id": "ba9932f6-4ad7-46dd-a363-1199f1306357",
   "metadata": {},
   "outputs": [],
   "source": [
    "# final answer\n",
    "def my_get(dictionary, key, *default):\n",
    "    try:\n",
    "        return dictionary[key]\n",
    "    except KeyError:\n",
    "        if len(default) == 0:\n",
    "            return None\n",
    "        else:\n",
    "            # TODO: this feels like a hack - could raise an exception\n",
    "            # if len(default) > 1\n",
    "            return default[0]"
   ]
  },
  {
   "cell_type": "markdown",
   "id": "33ed25ec-2eef-43b1-876c-084b72805935",
   "metadata": {},
   "source": [
    "### Attempt 1 - Stabbing in the dark"
   ]
  },
  {
   "cell_type": "code",
   "execution_count": 297,
   "id": "44ea98ff-390a-4627-ba33-af1be257d616",
   "metadata": {},
   "outputs": [],
   "source": [
    "def my_get(dictionary, key, *default):\n",
    "    try:\n",
    "        # if I use dict.get, how to get access to the error?\n",
    "        return dictionary.get(key)\n",
    "    except NameError:\n",
    "        if len(default) == 0:\n",
    "            return None\n",
    "        else:\n",
    "            # TODO: this feels like a hack\n",
    "            return default[0]"
   ]
  },
  {
   "cell_type": "markdown",
   "id": "3ea75738-584b-438b-87fc-1b9650df9304",
   "metadata": {},
   "source": [
    "### Attempt 2 - Custom object"
   ]
  },
  {
   "cell_type": "code",
   "execution_count": 295,
   "id": "1f16a3ca-3f52-4458-8c72-ec1ac409c9f0",
   "metadata": {},
   "outputs": [],
   "source": [
    "# TODO: this doesn't work for case 3 yet\n",
    "def my_get(dictionary, key, *default):\n",
    "    superdict = SuperDict(dictionary)\n",
    "    return superdict.get(key)"
   ]
  },
  {
   "cell_type": "markdown",
   "id": "1b10d6ab-32d9-4e27-98b4-3fbd2bb8f126",
   "metadata": {},
   "source": [
    "### Attempt 3 - Manual iteration"
   ]
  },
  {
   "cell_type": "code",
   "execution_count": 296,
   "id": "55bb35b4-8a79-40a1-9f9d-d3dbfb504944",
   "metadata": {},
   "outputs": [],
   "source": [
    "# this works, but I'm not using Exception handling...\n",
    "def my_get(dictionary, key, *default):\n",
    "    for dictkey in dictionary.keys():\n",
    "        if dictkey == key:\n",
    "            return dictionary[key]\n",
    "        else:\n",
    "            if len(default) == 0:\n",
    "                return None\n",
    "            else:\n",
    "                # TODO: this feels like a hack\n",
    "                return default[0]"
   ]
  },
  {
   "cell_type": "markdown",
   "id": "2e8c4ef6-6d7a-4ad5-984b-6739773b8a64",
   "metadata": {},
   "source": [
    "#### Testing"
   ]
  },
  {
   "cell_type": "code",
   "execution_count": 314,
   "id": "f95b2710-7f8b-4156-a36f-857b35bd72c5",
   "metadata": {},
   "outputs": [],
   "source": [
    "my_dict = {'a': 100, 'b': 200}"
   ]
  },
  {
   "cell_type": "code",
   "execution_count": 315,
   "id": "9f7e326d-2a37-4aa1-82ac-dce63d8ec2d5",
   "metadata": {},
   "outputs": [
    {
     "data": {
      "text/plain": [
       "100"
      ]
     },
     "execution_count": 315,
     "metadata": {},
     "output_type": "execute_result"
    }
   ],
   "source": [
    "# should return 100\n",
    "my_get(my_dict, 'a')"
   ]
  },
  {
   "cell_type": "code",
   "execution_count": 316,
   "id": "23eaabda-889e-41c0-895b-c399d4785676",
   "metadata": {},
   "outputs": [
    {
     "name": "stdout",
     "output_type": "stream",
     "text": [
      "None\n"
     ]
    }
   ],
   "source": [
    "# should return None\n",
    "result = my_get(my_dict, 'x')\n",
    "print(result)"
   ]
  },
  {
   "cell_type": "code",
   "execution_count": 317,
   "id": "9fed44c6-b48f-4217-a7db-eb9536db78a0",
   "metadata": {},
   "outputs": [
    {
     "name": "stdout",
     "output_type": "stream",
     "text": [
      "999\n"
     ]
    }
   ],
   "source": [
    "# should return 999 if x isn't found\n",
    "result = my_get(my_dict, 'x', 999)\n",
    "print(result)"
   ]
  },
  {
   "cell_type": "code",
   "execution_count": null,
   "id": "4673d046-c425-4e56-862f-2b8a03b456cc",
   "metadata": {},
   "outputs": [],
   "source": []
  }
 ],
 "metadata": {
  "kernelspec": {
   "display_name": "Python 3 (ipykernel)",
   "language": "python",
   "name": "python3"
  },
  "language_info": {
   "codemirror_mode": {
    "name": "ipython",
    "version": 3
   },
   "file_extension": ".py",
   "mimetype": "text/x-python",
   "name": "python",
   "nbconvert_exporter": "python",
   "pygments_lexer": "ipython3",
   "version": "3.8.10"
  }
 },
 "nbformat": 4,
 "nbformat_minor": 5
}
