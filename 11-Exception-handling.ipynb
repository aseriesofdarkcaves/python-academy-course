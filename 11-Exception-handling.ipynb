{
 "cells": [
  {
   "cell_type": "markdown",
   "id": "b4e62475-be31-434d-a327-3d220a44be9c",
   "metadata": {},
   "source": [
    "# Exeption Handling"
   ]
  },
  {
   "cell_type": "code",
   "execution_count": null,
   "id": "5a20a33f-d7b3-485e-9357-516ac37b67fd",
   "metadata": {},
   "outputs": [],
   "source": []
  }
 ],
 "metadata": {
  "kernelspec": {
   "display_name": "Python 3.9",
   "language": "python",
   "name": "python39"
  },
  "language_info": {
   "codemirror_mode": {
    "name": "ipython",
    "version": 3
   },
   "file_extension": ".py",
   "mimetype": "text/x-python",
   "name": "python",
   "nbconvert_exporter": "python",
   "pygments_lexer": "ipython3",
   "version": "3.9.7"
  }
 },
 "nbformat": 4,
 "nbformat_minor": 5
}
